{
 "cells": [
  {
   "cell_type": "code",
   "execution_count": null,
   "metadata": {},
   "outputs": [],
   "source": [
    "from spyral_utils.plot import CutHandler, Histogrammer\n",
    "from spyral_utils.nuclear import NuclearDataMap\n",
    "from spyral_utils.nuclear.particle_id import serialize_particle_id, ParticleID\n",
    "from spyral.core.constants import DEG2RAD\n",
    "from spyral.core.run_stacks import form_run_string\n",
    "\n",
    "import polars as pl\n",
    "import matplotlib.pyplot as plt\n",
    "from matplotlib.widgets import PolygonSelector\n",
    "from pathlib import Path\n",
    "\n",
    "%matplotlib widget\n",
    "\n",
    "RAD2DEG = 1.0/DEG2RAD"
   ]
  },
  {
   "cell_type": "code",
   "execution_count": null,
   "metadata": {},
   "outputs": [],
   "source": [
    "# Load config\n",
    "workspace_path = Path(\"/Volumes/e20009/e20009_all_new\")\n",
    "estimation_result_path = workspace_path / \"Estimation\"\n",
    "\n",
    "# Set the run range (inclusive)\n",
    "run_min = 347\n",
    "run_max = 350\n",
    "\n",
    "# IC gate\n",
    "ic_min_val = -1.0\n",
    "ic_max_val = 4095.0\n",
    "\n",
    "# Nucleus map\n",
    "nuclear_map = NuclearDataMap()"
   ]
  },
  {
   "cell_type": "code",
   "execution_count": null,
   "metadata": {},
   "outputs": [],
   "source": [
    "# Set PID cut parameters for nucleus that will be gated on\n",
    "pid_name = \"proton_cut\" # name given to PID\n",
    "pid_z = 1 # atomic number\n",
    "pid_a = 1 # mass number\n",
    "nucleus = nuclear_map.get_data(pid_z, pid_a)\n",
    "pid_x_axis = \"sqrt_dEdx\" # This is the PID x-axis, matching a column name in the estimation dataframe\n",
    "pid_y_axis = \"brho\" # This is the PID y-axis, matching a column name in the estimation dataframe\n",
    "pid_path = Path(\"C:\\\\Users\\\\zachs\\\\Desktop\\\\particle_id.json\") # Path to which we will write our PID\n"
   ]
  },
  {
   "cell_type": "code",
   "execution_count": null,
   "metadata": {},
   "outputs": [],
   "source": [
    "# Make utility objects for plotting and making cuts\n",
    "grammer = Histogrammer()\n",
    "handler = CutHandler()"
   ]
  },
  {
   "cell_type": "code",
   "execution_count": null,
   "metadata": {},
   "outputs": [],
   "source": [
    "# Create histograms\n",
    "grammer.add_hist2d(\"particle_id\", (400, 400), ((-10.0, 200), (-0.1, 2.5))) # Plot of dEdx vs. Brho (particle ID)\n",
    "grammer.add_hist1d(\"ion_chamber\", 4095, (-1.0, 4095.0)) # Plot of ion chamber (beam ID)\n",
    "grammer.add_hist2d(\"kinematics\", (720, 400), ((0.0, 180.0), (0.0, 3.0))) # Plot of polar angle vs. Brho (kinematics)"
   ]
  },
  {
   "cell_type": "code",
   "execution_count": null,
   "metadata": {},
   "outputs": [],
   "source": [
    "# Fill histograms\n",
    "for run in range(run_min, run_max+1):\n",
    "    run_path = estimation_result_path / f\"{form_run_string(run)}.parquet\"\n",
    "    if not run_path.exists():\n",
    "        continue\n",
    "    df = pl.scan_parquet(run_path)\n",
    "\n",
    "    # The below filter is optional. Filter the data on the ion chamber gate. Comment/Uncomment the line below to turn on/off the filter\n",
    "    df = df.filter((pl.col('ic_amplitude') > ic_min_val) & (pl.col('ic_amplitude') < ic_max_val))\n",
    "    df = df.collect()\n",
    "\n",
    "    grammer.fill_hist2d('particle_id', df.select(pid_x_axis).to_numpy(), df.select(pid_y_axis).to_numpy()) # Use your custom axes\n",
    "    grammer.fill_hist2d('kinematics', df.select('polar').to_numpy() * RAD2DEG, df.select('brho').to_numpy())\n",
    "    grammer.fill_hist1d('ion_chamber', df.unique(subset=['event']).select('ic_amplitude').to_numpy())"
   ]
  },
  {
   "cell_type": "code",
   "execution_count": null,
   "metadata": {},
   "outputs": [],
   "source": [
    "# Plot IC\n",
    "ic = grammer.get_hist1d(\"ion_chamber\")\n",
    "fig, ax = plt.subplots(1,1)\n",
    "ax.stairs(ic.counts, edges=ic.bins)\n",
    "ax.set_title(\"Ion Chamber\")\n",
    "ax.set_xlabel(\"Amplitude (arb.)\")\n",
    "ax.set_ylabel(\"Counts\")\n",
    "fig.set_figwidth(8.0)"
   ]
  },
  {
   "cell_type": "code",
   "execution_count": null,
   "metadata": {},
   "outputs": [],
   "source": [
    "# Plot PID and draw gate by clicking points on plot\n",
    "pid_hist = grammer.get_hist2d(\"particle_id\")\n",
    "fig, ax = plt.subplots(1,1)\n",
    "_ = PolygonSelector(ax, handler.mpl_on_select)\n",
    "mesh = ax.pcolormesh(pid_hist.x_bins, pid_hist.y_bins, pid_hist.counts, norm='log')\n",
    "fig.colorbar(mesh, ax=ax)\n",
    "ax.set_title(\"Particle ID\")\n",
    "ax.set_xlabel(f\"{pid_x_axis} Column\")\n",
    "ax.set_ylabel(f\"{pid_y_axis} Column\")\n",
    "fig.set_figheight(8.0)\n",
    "fig.set_figwidth(11.0)\n"
   ]
  },
  {
   "cell_type": "code",
   "execution_count": null,
   "metadata": {},
   "outputs": [],
   "source": [
    "# Plot estimated kinematics\n",
    "kine = grammer.get_hist2d(\"kinematics\")\n",
    "fig, ax = plt.subplots(1,1)\n",
    "mesh = ax.pcolormesh(kine.x_bins, kine.y_bins, kine.counts)\n",
    "fig.colorbar(mesh, ax=ax)\n",
    "ax.set_title(\"Kinematics\")\n",
    "ax.set_xlabel(\"Polar angle $\\\\theta$ (deg)\")\n",
    "ax.set_ylabel(\"B$\\\\rho$(Tm)\")\n",
    "fig.set_figheight(8.0)\n",
    "fig.set_figwidth(11.0)"
   ]
  },
  {
   "cell_type": "code",
   "execution_count": null,
   "metadata": {},
   "outputs": [],
   "source": [
    "# Save PID\n",
    "# If you've made multiple cuts, you'll want to change the name used here. Cuts are automatically named in the order they were made (first cut is cut_0, second cut_1, etc.)\n",
    "cut = handler.cuts[\"cut_0\"]\n",
    "cut.name = pid_name\n",
    "cut.x_axis = pid_x_axis # specify our axes\n",
    "cut.y_axis = pid_y_axis\n",
    "pid = ParticleID(cut, nucleus)\n",
    "# Save our pid\n",
    "serialize_particle_id(pid_path, pid)\n"
   ]
  },
  {
   "cell_type": "code",
   "execution_count": null,
   "metadata": {},
   "outputs": [],
   "source": [
    "# Make and fill kinematics and PID histograms gated on user input gate\n",
    "grammer.add_hist2d(\"particle_id_gated\", (400, 400), ((-10.0, 200.0), (0.0, 3.0))) # Plot of dEdx vs. Brho (particle ID), gated on PID\n",
    "grammer.add_hist2d(\"kinematics_gated\", (720, 400), ((0.0, 180.0), (0.0, 3.0))) # Plot of polar angle vs. Brho (kinematics), gated on PID\n",
    "\n",
    "for run in range(run_min, run_max+1):\n",
    "    run_path = estimation_result_path / f\"{form_run_string(run)}.parquet\"\n",
    "    if not run_path.exists():\n",
    "        continue\n",
    "    df = pl.scan_parquet(run_path)\n",
    "\n",
    "    df = df.filter(pl.struct(['dEdx', 'brho']).map_batches(pid.cut.is_cols_inside)) # apply PID\n",
    "    # The below filter is optional. Filter the data on the ion chamber gate. Comment/Uncomment the line below to turn on/off the filter\n",
    "    df = df.filter((pl.col('ic_amplitude') > ic_min_val) & (pl.col('ic_amplitude') < ic_max_val))\n",
    "    df = df.collect()\n",
    "\n",
    "    grammer.fill_hist2d('particle_id_gated', df.select(pid_x_axis).to_numpy(), df.select(pid_y_axis).to_numpy())\n",
    "    grammer.fill_hist2d('kinematics_gated', df.select('polar').to_numpy() * RAD2DEG, df.select('brho').to_numpy())"
   ]
  },
  {
   "cell_type": "code",
   "execution_count": null,
   "metadata": {},
   "outputs": [],
   "source": [
    "# Plot gated PID\n",
    "pid_gated = grammer.get_hist2d(\"particle_id_gated\")\n",
    "fig, ax = plt.subplots(1,1)\n",
    "mesh = ax.pcolormesh(pid_gated.x_bins, pid_gated.y_bins, pid_gated.counts)\n",
    "fig.colorbar(mesh, ax=ax)\n",
    "ax.set_title(\"Particle ID Gated\")\n",
    "ax.set_xlabel(f\"{pid_x_axis} Column\")\n",
    "ax.set_ylabel(f\"{pid_y_axis} Column\")\n",
    "fig.set_figheight(8.0)\n",
    "fig.set_figwidth(11.0)"
   ]
  },
  {
   "cell_type": "code",
   "execution_count": null,
   "metadata": {},
   "outputs": [],
   "source": [
    "# Plot gated kinematics\n",
    "kine_gated = grammer.get_hist2d(\"kinematics_gated\")\n",
    "fig, ax = plt.subplots(1,1)\n",
    "mesh = ax.pcolormesh(kine_gated.x_bins, kine_gated.y_bins, kine_gated.counts)\n",
    "fig.colorbar(mesh, ax=ax)\n",
    "ax.set_title(\"Kinematics Gated\")\n",
    "ax.set_xlabel(\"Polar angle $\\\\theta$ (deg)\")\n",
    "ax.set_ylabel(\"B$\\\\rho$(Tm)\")\n",
    "fig.set_figheight(8.0)\n",
    "fig.set_figwidth(11.0)"
   ]
  }
 ],
 "metadata": {
  "kernelspec": {
   "display_name": "Python 3 (ipykernel)",
   "language": "python",
   "name": "python3"
  },
  "language_info": {
   "codemirror_mode": {
    "name": "ipython",
    "version": 3
   },
   "file_extension": ".py",
   "mimetype": "text/x-python",
   "name": "python",
   "nbconvert_exporter": "python",
   "pygments_lexer": "ipython3",
   "version": "3.12.3"
  }
 },
 "nbformat": 4,
 "nbformat_minor": 4
}
