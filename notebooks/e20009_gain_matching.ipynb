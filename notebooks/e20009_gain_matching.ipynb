{
 "cells": [
  {
   "cell_type": "code",
   "execution_count": null,
   "metadata": {},
   "outputs": [],
   "source": [
    "from spyral_utils.plot import Histogrammer\n",
    "from spyral_utils.nuclear import NuclearDataMap\n",
    "from spyral_utils.nuclear.particle_id import deserialize_particle_id\n",
    "from spyral.core.constants import DEG2RAD\n",
    "from spyral.core.run_stacks import form_run_string\n",
    "\n",
    "import numpy as np\n",
    "import polars as pl\n",
    "import matplotlib.pyplot as plt\n",
    "from pathlib import Path\n",
    "\n",
    "%matplotlib widget\n",
    "\n",
    "RAD2DEG = 1.0/DEG2RAD"
   ]
  },
  {
   "cell_type": "code",
   "execution_count": null,
   "metadata": {},
   "outputs": [],
   "source": [
    "# Load config\n",
    "workspace_path = Path(\"/Volumes/e20009/e20009_analysis\")\n",
    "estimation_result_path = workspace_path / \"Estimation\"\n",
    "pid_path = Path('/Users/attpc/Desktop/e20009_analysis/e20009_analysis/e20009_parameters/pid.json')\n",
    "\n",
    "# Set the run range (inclusive)\n",
    "run_min = 347\n",
    "run_max = 348\n",
    "\n",
    "# IC gate\n",
    "ic_min_val = 0.0\n",
    "ic_max_val = 4095.0\n",
    "\n",
    "# Nucleus map\n",
    "nuclear_map = NuclearDataMap()"
   ]
  },
  {
   "cell_type": "code",
   "execution_count": null,
   "metadata": {},
   "outputs": [],
   "source": [
    "# Make utility objects for plotting and making cuts\n",
    "grammer = Histogrammer()"
   ]
  },
  {
   "cell_type": "code",
   "execution_count": null,
   "metadata": {},
   "outputs": [],
   "source": [
    "# Create histogram\n",
    "grammer.add_hist2d(\"particle_id\", (400, 400), ((-100.0, 10e3), (-0.1, 2.5))) # Plot of dEdx vs. Brho (particle ID)"
   ]
  },
  {
   "cell_type": "code",
   "execution_count": null,
   "metadata": {},
   "outputs": [],
   "source": [
    "# Fill histograms\n",
    "for run in range(run_min, run_max+1):\n",
    "    run_path = estimation_result_path / f\"{form_run_string(run)}.parquet\"\n",
    "    if not run_path.exists():\n",
    "        continue\n",
    "    df = pl.read_parquet(run_path)\n",
    "    # The below filter is optional. Filter the data on the ion chamber gate. Comment/Uncomment the line below to turn on/off the filter\n",
    "    df = df.filter((pl.col('ic_amplitude') > ic_min_val) & (pl.col('ic_amplitude') < ic_max_val))\n",
    "    grammer.fill_hist2d('particle_id', df.select('dEdx').to_numpy(), df.select('brho').to_numpy())"
   ]
  },
  {
   "cell_type": "code",
   "execution_count": null,
   "metadata": {},
   "outputs": [],
   "source": [
    "# Load PID vertices\n",
    "pid = deserialize_particle_id(pid_path, nuclear_map)\n",
    "vertices = np.asarray(pid.cut.get_vertices())"
   ]
  },
  {
   "cell_type": "code",
   "execution_count": null,
   "metadata": {},
   "outputs": [],
   "source": [
    "# Find gain factor\n",
    "gain_factor = 1\n",
    "\n",
    "pid_hist = grammer.get_hist2d(\"particle_id\")\n",
    "fig, ax = plt.subplots(1,1)\n",
    "mesh = ax.pcolormesh(pid_hist.x_bins, pid_hist.y_bins, pid_hist.counts, norm='log')\n",
    "fig.colorbar(mesh, ax=ax)\n",
    "ax.plot(vertices[:, 0] / gain_factor, vertices[:, 1], color = 'red')\n",
    "ax.set_title(\"Particle ID\")\n",
    "ax.set_xlabel(\"dE/dx(arb.)\")\n",
    "ax.set_ylabel(\"B$\\\\rho$(Tm)\")\n",
    "fig.set_figheight(8.0)\n",
    "fig.set_figwidth(11.0)"
   ]
  }
 ],
 "metadata": {
  "kernelspec": {
   "display_name": "spyral_e20009",
   "language": "python",
   "name": "python3"
  },
  "language_info": {
   "codemirror_mode": {
    "name": "ipython",
    "version": 3
   },
   "file_extension": ".py",
   "mimetype": "text/x-python",
   "name": "python",
   "nbconvert_exporter": "python",
   "pygments_lexer": "ipython3",
   "version": "3.12.3"
  }
 },
 "nbformat": 4,
 "nbformat_minor": 2
}
