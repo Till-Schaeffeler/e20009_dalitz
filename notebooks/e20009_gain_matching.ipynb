{
 "cells": [
  {
   "cell_type": "code",
   "execution_count": null,
   "metadata": {},
   "outputs": [],
   "source": [
    "from spyral.core.run_stacks import form_run_string\n",
    "from spyral_utils.plot import Histogrammer\n",
    "from spyral_utils.nuclear import NuclearDataMap\n",
    "from spyral_utils.nuclear.particle_id import deserialize_particle_id\n",
    "\n",
    "import numpy as np\n",
    "import polars as pl\n",
    "import scipy\n",
    "import matplotlib.pyplot as plt\n",
    "from pathlib import Path\n",
    "\n",
    "%matplotlib widget\n",
    "\n",
    "\"\"\"\n",
    "This notebook is set up to use Brho and dEdx to find the gain match factor. If using a different PID scheme, the factor from this notebook should be transformed accordingly!\n",
    "\"\"\""
   ]
  },
  {
   "cell_type": "code",
   "execution_count": null,
   "metadata": {},
   "outputs": [],
   "source": [
    "# Load config\n",
    "workspace_path = Path(\"D:\\\\e20009_analysis\")\n",
    "estimation_result_path = workspace_path / \"Estimation\"\n",
    "\n",
    "# Set the run range (inclusive)\n",
    "run_min = 108\n",
    "run_max = 366\n",
    "\n",
    "# Set run to normalize gain match factors to\n",
    "norm_to_run = 347\n",
    "\n",
    "# Directory to write gain match factors csv to\n",
    "output = Path(\"C:\\\\Users\\\\zachs\\\\Desktop\\\\e20009_analysis\\\\e20009_analysis\\\\e20009_parameters\")"
   ]
  },
  {
   "cell_type": "code",
   "execution_count": null,
   "metadata": {},
   "outputs": [],
   "source": [
    "# Parameters for finding gain match factors\n",
    "bins = 200      # Number of bins for dEdx histogram\n",
    "range_low = 0   # Smallest bin edge in dEdx histogram\n",
    "range_high = 10000      # Largest bin edge in dEdx histogram\n",
    "brho_low = 0.1      # Cluster must have a brho greater than this to be in the histogram\n",
    "brho_high = 0.4     # Cluster must have a brho smaller than this to be in the histogram\n",
    "\n",
    "smoothing_factor = 10   # Window size for smoothing histogram"
   ]
  },
  {
   "cell_type": "code",
   "execution_count": null,
   "metadata": {},
   "outputs": [],
   "source": [
    "# Make dictionary to store results\n",
    "results: dict[str, list] = {\"run\": [], \"gain_factor\": []}"
   ]
  },
  {
   "cell_type": "code",
   "execution_count": null,
   "metadata": {},
   "outputs": [],
   "source": [
    "# Find gain match factor of each run\n",
    "for run in range(run_min, run_max + 1):\n",
    "    df = None\n",
    "    try:\n",
    "        df: pl.DataFrame = pl.read_parquet(\n",
    "            estimation_result_path / f\"{form_run_string(run)}.parquet\"\n",
    "        )\n",
    "    except Exception:\n",
    "        continue\n",
    "\n",
    "    # Project brho range of PID onto the dEdx axis\n",
    "    df = df.filter((pl.col(\"brho\") > brho_low) \n",
    "                   & (pl.col(\"brho\") < brho_high))\n",
    "    energy_loss = df.select(pl.col(\"dEdx\")).to_numpy()\n",
    "\n",
    "    # Histogram the projection of energies\n",
    "    hist, bin_edges = np.histogram(\n",
    "        energy_loss, bins=bins, range=(range_low, range_high)\n",
    "    )\n",
    "    bin_width = (range_high - range_low) / bins\n",
    "\n",
    "    # Perform a moving average smoothing via the convolution theorem of the histogram\n",
    "    window = np.arange(0, bins, 1)\n",
    "    window_centered = window - (window[-1] + window[0]) / 2\n",
    "    fil = np.fft.ifftshift(\n",
    "        np.sinc(window_centered / smoothing_factor)\n",
    "    )  # Size of points taken for average is denominator\n",
    "    transformed = np.fft.fft2(hist, axes=(0,))\n",
    "    hist_smoothed = np.real(np.fft.ifft2(transformed * fil, axes=(0,)))\n",
    "\n",
    "    # Find largest peak in smoothed histogram\n",
    "    pks, props = scipy.signal.find_peaks(\n",
    "        hist_smoothed, distance=1, prominence=1, width=1, rel_height=0.95)\n",
    "    \n",
    "    max_peak_centroid = pks[-1] * bin_width + range_low\n",
    "\n",
    "    results[\"run\"].append(run)\n",
    "    results[\"gain_factor\"].append(max_peak_centroid)"
   ]
  },
  {
   "cell_type": "code",
   "execution_count": null,
   "metadata": {},
   "outputs": [],
   "source": [
    "# Normalize gain factors to specified run\n",
    "run_index = results[\"run\"].index(norm_to_run)\n",
    "results[\"gain_factor\"] = np.round(results[\"gain_factor\"][run_index] / results[\"gain_factor\"], 2)\n"
   ]
  },
  {
   "cell_type": "code",
   "execution_count": null,
   "metadata": {},
   "outputs": [],
   "source": [
    "# Write the results to a DataFrame\n",
    "results_df = pl.DataFrame(results)\n",
    "results_df.write_csv(Path(output) / \"gain_match_factors.csv\")"
   ]
  },
  {
   "cell_type": "code",
   "execution_count": null,
   "metadata": {},
   "outputs": [],
   "source": [
    "# Load PID for plotting\n",
    "pid_path = Path(\"D:\\\\e20009_analysis\\\\protond_pid.json\")\n",
    "\n",
    "# Nucleus map\n",
    "nuclear_map = NuclearDataMap()\n",
    "\n",
    "# Load PID vertices\n",
    "pid = deserialize_particle_id(pid_path, nuclear_map)\n",
    "vertices = np.asarray(pid.cut.get_vertices())"
   ]
  },
  {
   "cell_type": "code",
   "execution_count": null,
   "metadata": {},
   "outputs": [],
   "source": [
    "# Plot PID of one run and compare to gain-matched gate\n",
    "# Set the run\n",
    "run= 108\n",
    "\n",
    "# Create histogram\n",
    "grammer = Histogrammer()\n",
    "grammer.add_hist2d(\"particle_id\", (400, 400), ((-100.0, 10e3), (-0.1, 2.5))) # Plot of dEdx vs. Brho (particle ID)\n",
    "\n",
    "# Fill histograms\n",
    "try:\n",
    "    df: pl.DataFrame = pl.read_parquet(\n",
    "        estimation_result_path / f\"{form_run_string(run)}.parquet\"\n",
    "        )\n",
    "except Exception:\n",
    "    raise (f\"Estimation phase results not found for run {run}!\")\n",
    "\n",
    "grammer.fill_hist2d('particle_id', df.select('dEdx').to_numpy(), df.select('brho').to_numpy())\n",
    "\n",
    "# Plot PID for run alongside the run's gate with the found gain match factor applied\n",
    "run_index = results[\"run\"].index(run)\n",
    "gain_factor = results[\"gain_factor\"][run_index]\n",
    "\n",
    "pid_hist = grammer.get_hist2d(\"particle_id\")\n",
    "fig, ax = plt.subplots(1,1)\n",
    "mesh = ax.pcolormesh(pid_hist.x_bins, pid_hist.y_bins, pid_hist.counts, norm='log')\n",
    "fig.colorbar(mesh, ax=ax)\n",
    "ax.plot(vertices[:, 0] / gain_factor, vertices[:, 1], color = 'red')\n",
    "ax.set_title(\"Particle ID\")\n",
    "ax.set_xlabel(\"dE/dx(arb.)\")\n",
    "ax.set_ylabel(\"B$\\\\rho$(Tm)\")\n",
    "fig.set_figheight(8.0)\n",
    "fig.set_figwidth(11.0)\n",
    "fig.tight_layout()"
   ]
  }
 ],
 "metadata": {
  "kernelspec": {
   "display_name": "spyral_e20009",
   "language": "python",
   "name": "python3"
  },
  "language_info": {
   "codemirror_mode": {
    "name": "ipython",
    "version": 3
   },
   "file_extension": ".py",
   "mimetype": "text/x-python",
   "name": "python",
   "nbconvert_exporter": "python",
   "pygments_lexer": "ipython3",
   "version": "3.11.8"
  }
 },
 "nbformat": 4,
 "nbformat_minor": 2
}
