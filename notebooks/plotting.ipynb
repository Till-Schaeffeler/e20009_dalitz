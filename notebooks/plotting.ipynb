{
 "cells": [
  {
   "cell_type": "code",
   "execution_count": null,
   "metadata": {},
   "outputs": [],
   "source": [
    "import numpy as np\n",
    "import matplotlib.pyplot as plt\n",
    "\n",
    "from spyral_utils.plot import Histogrammer\n",
    "\n",
    "%matplotlib widget\n",
    "plt.rcParams['axes.labelsize'] = 15\n",
    "plt.rcParams['xtick.labelsize'] = 15\n",
    "plt.rcParams['ytick.labelsize'] = 15\n",
    "plt.rcParams['legend.fontsize'] = 15"
   ]
  },
  {
   "cell_type": "code",
   "execution_count": null,
   "metadata": {},
   "outputs": [],
   "source": [
    "grammer = Histogrammer()"
   ]
  },
  {
   "cell_type": "code",
   "execution_count": null,
   "metadata": {},
   "outputs": [],
   "source": [
    "# Plot of 2.65 MeV XS comparing LBFGSB and LM\n",
    "\n",
    "lbf = np.genfromtxt(\"C:\\\\Users\\\\zachs\\\\Desktop\\\\1.78_xs_lbfgsb.csv\", delimiter=',')\n",
    "lm = np.genfromtxt(\"C:\\\\Users\\\\zachs\\\\Desktop\\\\1.78_xs_ls.csv\", delimiter=',')\n",
    "\n",
    "fig, ax = plt.subplots(1,1)\n",
    "ax.errorbar(lbf[:,0], lbf[:,1], yerr=lbf[:,2], fmt='o', capsize=3, label=\"L-BFGS-B\")\n",
    "ax.errorbar(lm[:,0], lm[:,1], yerr=lm[:,2], fmt='^', capsize=3, label=\"Levenberg-Marquardt\")\n",
    "ax.set_xlabel(r\"$\\theta_{c.m.}$ (deg)\")\n",
    "ax.set_ylabel(r\"$d\\sigma / d\\Omega_{c.m.}$ (mb / sr)\")\n",
    "ax.legend()\n",
    "plt.xlim(18, 34)\n",
    "plt.ylim(0,6)\n",
    "fig.set_figheight(8.0)\n",
    "fig.set_figwidth(6.0)\n",
    "fig.tight_layout()\n",
    "fig.set_layout_engine(\"tight\") \n",
    "\n",
    "fig.savefig(\"C:\\\\Users\\\\zachs\\\\Desktop\\\\2.65_xs_lbfgsb_vs_lm.pdf\")"
   ]
  },
  {
   "cell_type": "code",
   "execution_count": null,
   "metadata": {},
   "outputs": [],
   "source": [
    "# Plot 32-34 CM bin excitation energy spectrum for LBFGSB and LM\n",
    "\n",
    "lbf = np.genfromtxt(\"C:\\\\Users\\\\zachs\\\\Desktop\\\\data4plots\\\\lbf_32-34_bin.csv\", delimiter=',')\n",
    "grammer.add_hist1d(\"32-34_lbf\",85, (-0.5, 4.0))\n",
    "grammer.fill_hist1d(\"32-34_lbf\", lbf)\n",
    "lbf_hist = grammer.get_hist1d(\"32-34_lbf\")\n",
    "\n",
    "lm = np.genfromtxt(\"C:\\\\Users\\\\zachs\\\\Desktop\\\\data4plots\\\\ls_32-34_bin.csv\", delimiter=',')\n",
    "grammer.add_hist1d(\"32-34_lm\",85, (-0.5, 4.0))\n",
    "grammer.fill_hist1d(\"32-34_lm\", lm)\n",
    "lm_hist = grammer.get_hist1d(\"32-34_lm\")\n",
    "\n",
    "fig, ax = plt.subplots(1,1)\n",
    "ax.stairs(lbf_hist.counts, edges=lbf_hist.bins, linewidth=2, label=\"L-BFGS-B\")\n",
    "ax.stairs(lm_hist.counts, edges=lm_hist.bins, linestyle=\"--\", linewidth=2, label=\"Levenberg-Marquardt\")\n",
    "ax.set_xlabel(\"Excitation energy (MeV)\")\n",
    "ax.set_ylabel(\"Counts / 53 keV\")\n",
    "ax.legend()\n",
    "# plt.xlim(-0.5, 4.0)\n",
    "fig.set_figheight(8.0)\n",
    "fig.set_figwidth(11.0)\n",
    "fig.tight_layout()\n",
    "fig.set_layout_engine(\"tight\")\n",
    "\n",
    "fig.savefig(\"C:\\\\Users\\\\zachs\\\\Desktop\\\\32-34_bin_lbfgsb_vs_lm.pdf\")"
   ]
  }
 ],
 "metadata": {
  "kernelspec": {
   "display_name": "e20009_analysis",
   "language": "python",
   "name": "python3"
  },
  "language_info": {
   "codemirror_mode": {
    "name": "ipython",
    "version": 3
   },
   "file_extension": ".py",
   "mimetype": "text/x-python",
   "name": "python",
   "nbconvert_exporter": "python",
   "pygments_lexer": "ipython3",
   "version": "3.11.8"
  }
 },
 "nbformat": 4,
 "nbformat_minor": 2
}
