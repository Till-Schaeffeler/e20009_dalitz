{
 "cells": [
  {
   "cell_type": "code",
   "execution_count": null,
   "metadata": {},
   "outputs": [],
   "source": [
    "import numpy as np\n",
    "import matplotlib.pyplot as plt\n",
    "\n",
    "%matplotlib widget\n",
    "plt.rcParams['axes.labelsize'] = 12\n",
    "plt.rcParams['xtick.labelsize'] = 12\n",
    "plt.rcParams['ytick.labelsize'] = 12"
   ]
  },
  {
   "cell_type": "code",
   "execution_count": null,
   "metadata": {},
   "outputs": [],
   "source": [
    "# Plot of 2.65 MeV XS comparing LBFGSB and LM\n",
    "\n",
    "lbf = np.genfromtxt(\"C:\\\\Users\\\\zachs\\\\Desktop\\\\1.78_xs_lbfgsb.csv\", delimiter=',')\n",
    "lm = np.genfromtxt(\"C:\\\\Users\\\\zachs\\\\Desktop\\\\1.78_xs_ls.csv\", delimiter=',')\n",
    "\n",
    "fig, ax = plt.subplots(1,1)\n",
    "ax.errorbar(lbf[:,0], lbf[:,1], yerr=lbf[:,2], fmt='o', capsize=3, label=\"L-BFGS-B\")\n",
    "ax.errorbar(lm[:,0], lm[:,1], yerr=lm[:,2], fmt='^', capsize=3, label=\"Levenberg-Marquardt\")\n",
    "ax.set_xlabel(r\"$\\theta_{c.m.}$ (deg)\")\n",
    "ax.set_ylabel(r\"$d\\sigma / d\\Omega_{c.m.}$ (mb / sr)\")\n",
    "ax.legend()\n",
    "plt.xlim(18, 34)\n",
    "plt.ylim(0,6)\n",
    "fig.set_figwidth(8.0)\n",
    "fig.set_figwidth(6.0)\n",
    "fig.tight_layout()\n",
    "fig.set_layout_engine(\"tight\") \n",
    "\n",
    "fig.savefig(\"C:\\\\Users\\\\zachs\\\\Desktop\\\\2.65_xs_lbfgsb_vs_lm.pdf\")"
   ]
  }
 ],
 "metadata": {
  "kernelspec": {
   "display_name": "e20009_analysis",
   "language": "python",
   "name": "python3"
  },
  "language_info": {
   "codemirror_mode": {
    "name": "ipython",
    "version": 3
   },
   "file_extension": ".py",
   "mimetype": "text/x-python",
   "name": "python",
   "nbconvert_exporter": "python",
   "pygments_lexer": "ipython3",
   "version": "3.11.8"
  }
 },
 "nbformat": 4,
 "nbformat_minor": 2
}
