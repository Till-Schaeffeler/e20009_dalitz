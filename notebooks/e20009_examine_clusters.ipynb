{
 "cells": [
  {
   "cell_type": "code",
   "execution_count": 176,
   "metadata": {},
   "outputs": [],
   "source": [
    "import sys\n",
    "sys.path.append('..')\n",
    "\n",
    "from spyral.core.clusterize import form_clusters, join_clusters, cleanup_clusters\n",
    "from spyral.core.run_stacks import form_run_string\n",
    "from spyral import ClusterParameters\n",
    "\n",
    "from e20009_phases.PointcloudLegacyPhase import PointCloud\n",
    "\n",
    "from pathlib import Path\n",
    "import h5py as h5\n",
    "import numpy.random as random\n",
    "import numpy as np\n",
    "import plotly.graph_objects as go\n",
    "from plotly.subplots import make_subplots\n",
    "from plotly.colors import DEFAULT_PLOTLY_COLORS\n",
    "\n",
    "# Utility for syncing plot colors\n",
    "def get_color(value: int) -> str:\n",
    "    color_index = value\n",
    "    if color_index >= len(DEFAULT_PLOTLY_COLORS):\n",
    "        color_index = color_index % len(DEFAULT_PLOTLY_COLORS)\n",
    "    elif color_index == -1:\n",
    "        return \"black\"\n",
    "    return DEFAULT_PLOTLY_COLORS[color_index]"
   ]
  },
  {
   "cell_type": "code",
   "execution_count": 177,
   "metadata": {},
   "outputs": [],
   "source": [
    "# Load config\n",
    "workspace_path = Path(\"/Volumes/e20009/e20009_analysis\")\n",
    "\n",
    "cluster_params = ClusterParameters(\n",
    "    min_cloud_size=50,\n",
    "    min_points=3,\n",
    "    min_size_scale_factor=0.05,\n",
    "    min_size_lower_cutoff=10,\n",
    "    cluster_selection_epsilon=10.0,\n",
    "    circle_overlap_ratio=0.5,\n",
    "    fractional_charge_threshold=0.8,\n",
    "    outlier_scale_factor=0.05,\n",
    ")\n",
    "\n",
    "pointcloud_path = workspace_path / \"PointcloudLegacy\""
   ]
  },
  {
   "cell_type": "code",
   "execution_count": 178,
   "metadata": {},
   "outputs": [],
   "source": [
    "# Load data\n",
    "run_number = 347\n",
    "point_file_path = pointcloud_path / f\"{form_run_string(run_number)}.h5\"\n",
    "point_file = h5.File(point_file_path, 'r')\n",
    "\n",
    "cloud_group: h5.Group = point_file.get('cloud')\n",
    "min_event = cloud_group.attrs['min_event']\n",
    "max_event = cloud_group.attrs['max_event']"
   ]
  },
  {
   "cell_type": "code",
   "execution_count": 179,
   "metadata": {},
   "outputs": [
    {
     "name": "stdout",
     "output_type": "stream",
     "text": [
      "Event 122269\n",
      "Cloud size: 100\n"
     ]
    },
    {
     "data": {
      "application/vnd.plotly.v1+json": {
       "config": {
        "plotlyServerURL": "https://plot.ly"
       },
       "data": [
        {
         "marker": {
          "color": [
           311,
           81,
           213,
           3135,
           102,
           405,
           77,
           86,
           99,
           3644,
           113,
           370,
           420,
           506,
           70,
           92,
           95,
           133,
           73,
           50,
           71,
           95,
           184,
           287,
           70,
           168,
           123,
           152,
           149,
           363,
           146,
           164,
           111,
           131,
           112,
           72,
           259,
           90,
           160,
           356,
           64,
           329,
           455,
           294,
           251,
           130,
           141,
           69,
           161,
           199,
           221,
           420,
           204,
           224,
           178,
           125,
           184,
           106,
           166,
           72,
           84,
           101,
           394,
           152,
           163,
           157,
           31,
           64,
           64,
           64,
           1303,
           288,
           577,
           228,
           81,
           326,
           306,
           361,
           637,
           189,
           99,
           312,
           441,
           242,
           87,
           299,
           404,
           176,
           303,
           76,
           259,
           425,
           109,
           725,
           170,
           228,
           81,
           161,
           342,
           214
          ],
          "showscale": true,
          "size": 3
         },
         "mode": "markers",
         "name": "Point Cloud",
         "scene": "scene",
         "type": "scatter3d",
         "x": [
          260.31432775711204,
          256.30149466207195,
          258.58365069148437,
          283.86250488498604,
          259.29882028310374,
          258.3446242945486,
          260.4258295792875,
          299.89191515003836,
          295.73063670513653,
          299.25927308947075,
          296.38801380558266,
          270.23150953243106,
          282.24522469067614,
          275.8210550833828,
          264.47101749414554,
          75.45056825907898,
          69.64084708146406,
          71.40893362656465,
          62.484021856123064,
          53.438183482185465,
          48.32283742383062,
          56.00422029797623,
          65.68171321422429,
          70.86380766866264,
          75.42865027531464,
          169.80499233226763,
          173.41335618079515,
          171.55862579954973,
          173.7910123719124,
          167.06230117873386,
          177.8470116418979,
          180.1509634590767,
          184.61553295999866,
          192.5340379337468,
          141.52952805782223,
          151.45783070691883,
          145.32930309245575,
          141.67053052680654,
          155.36257947000607,
          151.60323910504846,
          143.99645224692512,
          157.70611941877308,
          159.8806285376749,
          165.39201236874078,
          141.36144370877355,
          137.35834058784351,
          107.79039442513523,
          105.42958625731265,
          101.03738580137664,
          119.95743092995427,
          117.4334673443526,
          97.30348636621518,
          102.47578037174418,
          95.08453901475318,
          89.42817226588193,
          81.16538017153167,
          133.69135789076984,
          81.41776233130533,
          86.99118954307889,
          92.2735967395295,
          102.2263735566732,
          131.1085584254606,
          127.0378296680414,
          117.35211699660032,
          122.13827510795167,
          110.52517281017322,
          -275.7073391070533,
          666.6765517074947,
          533.4467188749492,
          326.0198981267528,
          305.58316982421115,
          297.5258469741593,
          288.72427566547145,
          254.5674097822253,
          258.1996368508568,
          263.8265875816458,
          235.9356802782605,
          240.25157586885533,
          242.27454479200392,
          245.51958548983526,
          248.7645059171114,
          248.5580663081565,
          258.3457388620226,
          222.88686913594995,
          228.10442265838185,
          216.70187270291441,
          217.79749949627626,
          225.7728929271053,
          225.36446105754197,
          207.9850034284383,
          206.56665681172694,
          233.52681058947616,
          151.16578925850578,
          193.22070108957848,
          191.1642942919786,
          198.83590657794724,
          197.68381316991588,
          204.333504663528,
          206.78607325234694,
          104.50679822162444
         ],
         "y": [
          -4.9082351,
          -12.270588,
          -12.270588,
          -7.3623528,
          -7.3623528,
          -4.9082351,
          -12.270588,
          -12.270588,
          -7.3623528,
          -9.8164701,
          -9.8164701,
          83.439995,
          93.25647,
          88.348236,
          78.531761,
          -9.8164701,
          -12.270588,
          -12.270588,
          -12.270588,
          -9.8164701,
          -7.3623528,
          -9.8164701,
          -9.8164701,
          -9.8164701,
          -9.8164701,
          14.724706,
          17.178823,
          17.178823,
          19.63294,
          14.724706,
          22.087059,
          22.087059,
          24.541176,
          26.995293,
          0,
          4.9082351,
          4.9082351,
          4.9082351,
          9.8164701,
          7.3623528,
          2.4541175,
          9.8164701,
          12.270588,
          12.270588,
          2.4541175,
          2.4541175,
          -9.8164701,
          -4.9082351,
          -7.3623528,
          -4.9082351,
          -4.9082351,
          -9.8164701,
          -9.8164701,
          -9.8164701,
          -9.8164701,
          -9.8164701,
          0,
          -12.270588,
          -12.270588,
          -12.270588,
          -12.270588,
          -2.4541175,
          -2.4541175,
          -7.3623528,
          -2.4541175,
          -7.3623528,
          58.898823,
          206.14587,
          206.14587,
          206.14587,
          107.98117,
          103.07294,
          98.164703,
          73.623528,
          76.077644,
          78.531761,
          58.898823,
          61.35294,
          63.807056,
          66.261177,
          68.715294,
          68.715294,
          73.623528,
          51.536469,
          53.990585,
          44.174118,
          46.628235,
          49.082352,
          51.536469,
          39.265881,
          39.265881,
          56.444706,
          7.3623528,
          29.449411,
          29.449411,
          31.903528,
          31.903528,
          34.357647,
          36.811764,
          -7.3623528
         ],
         "z": [
          40.381233,
          82.887802,
          87.138458,
          19.127953,
          87.138458,
          87.138458,
          70.135826,
          27.629267,
          61.634518,
          19.127953,
          23.378611,
          -131.77034,
          -131.77034,
          -131.77034,
          -129.64502,
          -40.381233,
          -36.130577,
          -31.879923,
          -27.629267,
          -19.127953,
          -19.127953,
          -23.378611,
          -27.629267,
          -31.879923,
          -36.130577,
          -108.39174,
          -108.39174,
          -104.14108,
          -108.39174,
          -104.14108,
          -112.6424,
          -108.39174,
          -112.6424,
          -116.89305,
          -87.138458,
          -95.639771,
          -91.389114,
          -87.138458,
          -95.639771,
          -95.639771,
          -91.389114,
          -99.890427,
          -99.890427,
          -104.14108,
          -87.138458,
          -82.887802,
          -65.88517,
          -61.634518,
          -57.383862,
          -74.386482,
          -70.135826,
          -57.383862,
          -61.634518,
          -53.133205,
          -48.882549,
          -44.631893,
          -82.887802,
          -44.631893,
          -48.882549,
          -53.133205,
          -57.383862,
          -82.887802,
          -78.637138,
          -70.135826,
          -74.386482,
          -65.88517,
          242.28741,
          -63.759846,
          -63.759846,
          -63.759846,
          -131.77034,
          -131.77034,
          -131.77034,
          -129.64502,
          -133.89568,
          -133.89568,
          -129.64502,
          -129.64502,
          -129.64502,
          -129.64502,
          -133.89568,
          -129.64502,
          -133.89568,
          -129.64502,
          -129.64502,
          -125.39436,
          -125.39436,
          -125.39436,
          -125.39436,
          -125.39436,
          -121.14371,
          -129.64502,
          -91.389114,
          -116.89305,
          -112.6424,
          -116.89305,
          -121.14371,
          -121.14371,
          -121.14371,
          -61.634518
         ]
        },
        {
         "mode": "markers",
         "name": "Charge",
         "type": "scatter",
         "x": [
          263.4734976919582,
          269.6505353532031,
          273.14681509660534,
          284.6014836649672,
          273.64793677566576,
          272.6887356241657,
          269.98372938128716,
          301.4118519520771,
          302.1748294181192,
          300.0305887759327,
          297.4706326095599,
          312.0107754765723,
          325.1500554532734,
          318.191903943733,
          304.827800226538,
          86.13823375506615,
          79.40927846569653,
          79.15890740804087,
          69.41323153505748,
          57.60105142330409,
          52.48980321368944,
          61.47678609603602,
          71.92931899397553,
          78.32223064374082,
          84.20963698967503,
          201.98841968780167,
          205.22200993504632,
          201.42700561111874,
          205.76087483903592,
          197.41325686358255,
          211.6735883453173,
          211.40240564083152,
          217.65448446408664,
          226.8525660986267,
          166.2038452469968,
          179.19411555956572,
          171.74593813782244,
          166.39633666088164,
          182.70429656067364,
          179.40098144332043,
          170.56661780697237,
          186.93763824761146,
          188.9192423172136,
          195.8327082711513,
          166.07887078960505,
          160.44850931729167,
          126.71222451476147,
          122.2223475444541,
          116.42879878433402,
          141.23464416157938,
          136.87126839850748,
          113.38976656770866,
          119.9852593326133,
          109.36439145555713,
          102.38781507961701,
          93.14605679456811,
          157.3015158702201,
          93.65588729848281,
          100.53625209208379,
          107.18265465403941,
          117.87156738776862,
          155.13176497899266,
          149.4270133955074,
          136.9114958322993,
          143.0284225019133,
          128.88317845785468,
          371.7348480204474,
          700.7275235614742,
          575.4362167594683,
          390.9608825120218,
          349.86344372926015,
          341.3342688357705,
          332.2069216276882,
          295.01325598894465,
          300.6375118130927,
          306.1041635185633,
          275.5767548069889,
          279.8085669969959,
          282.09240801616806,
          285.443937836007,
          290.7466666298229,
          288.6359907689212,
          300.15162465992677,
          262.94941582177825,
          267.87019639324626,
          254.23375042239698,
          255.60455513518394,
          262.88062305604734,
          262.9997974610511,
          246.01487065143695,
          242.6672445750436,
          272.9992807871843,
          176.7972574408428,
          227.7399663565832,
          223.8288754789183,
          232.84659753112874,
          234.03530409066298,
          240.01755666621708,
          242.4693476142516,
          121.55117820234946
         ],
         "xaxis": "x",
         "y": [
          5072,
          1424,
          3483,
          25151,
          1673,
          6425,
          1398,
          765,
          833,
          25752,
          919,
          2123,
          2409,
          2779,
          476,
          519,
          551,
          759,
          523,
          371,
          423,
          537,
          1112,
          1682,
          456,
          946,
          710,
          841,
          830,
          2026,
          838,
          923,
          676,
          754,
          771,
          661,
          1461,
          670,
          901,
          1934,
          398,
          1833,
          2484,
          1615,
          1372,
          750,
          770,
          397,
          906,
          1101,
          1252,
          2265,
          1200,
          1262,
          1060,
          681,
          1053,
          618,
          913,
          445,
          451,
          614,
          2184,
          916,
          956,
          880,
          845,
          0,
          0,
          64,
          7438,
          1628,
          3242,
          1301,
          527,
          1787,
          1684,
          1935,
          3501,
          1030,
          581,
          1742,
          2444,
          1346,
          614,
          1630,
          2257,
          983,
          1641,
          493,
          1435,
          2279,
          737,
          3949,
          953,
          1213,
          468,
          871,
          1922,
          1235
         ],
         "yaxis": "y"
        }
       ],
       "layout": {
        "height": 1000,
        "scene": {
         "aspectratio": {
          "x": 3.3,
          "y": 1,
          "z": 1
         },
         "domain": {
          "x": [
           0,
           1
          ],
          "y": [
           0.49,
           1
          ]
         },
         "xaxis": {
          "range": [
           0,
           1000
          ],
          "title": {
           "text": "Z (mm)"
          }
         },
         "yaxis": {
          "range": [
           -300,
           300
          ],
          "title": {
           "text": "X (mm)"
          }
         },
         "zaxis": {
          "range": [
           -300,
           300
          ],
          "title": {
           "text": "Y (mm)"
          }
         }
        },
        "template": {
         "data": {
          "bar": [
           {
            "error_x": {
             "color": "#2a3f5f"
            },
            "error_y": {
             "color": "#2a3f5f"
            },
            "marker": {
             "line": {
              "color": "#E5ECF6",
              "width": 0.5
             },
             "pattern": {
              "fillmode": "overlay",
              "size": 10,
              "solidity": 0.2
             }
            },
            "type": "bar"
           }
          ],
          "barpolar": [
           {
            "marker": {
             "line": {
              "color": "#E5ECF6",
              "width": 0.5
             },
             "pattern": {
              "fillmode": "overlay",
              "size": 10,
              "solidity": 0.2
             }
            },
            "type": "barpolar"
           }
          ],
          "carpet": [
           {
            "aaxis": {
             "endlinecolor": "#2a3f5f",
             "gridcolor": "white",
             "linecolor": "white",
             "minorgridcolor": "white",
             "startlinecolor": "#2a3f5f"
            },
            "baxis": {
             "endlinecolor": "#2a3f5f",
             "gridcolor": "white",
             "linecolor": "white",
             "minorgridcolor": "white",
             "startlinecolor": "#2a3f5f"
            },
            "type": "carpet"
           }
          ],
          "choropleth": [
           {
            "colorbar": {
             "outlinewidth": 0,
             "ticks": ""
            },
            "type": "choropleth"
           }
          ],
          "contour": [
           {
            "colorbar": {
             "outlinewidth": 0,
             "ticks": ""
            },
            "colorscale": [
             [
              0,
              "#0d0887"
             ],
             [
              0.1111111111111111,
              "#46039f"
             ],
             [
              0.2222222222222222,
              "#7201a8"
             ],
             [
              0.3333333333333333,
              "#9c179e"
             ],
             [
              0.4444444444444444,
              "#bd3786"
             ],
             [
              0.5555555555555556,
              "#d8576b"
             ],
             [
              0.6666666666666666,
              "#ed7953"
             ],
             [
              0.7777777777777778,
              "#fb9f3a"
             ],
             [
              0.8888888888888888,
              "#fdca26"
             ],
             [
              1,
              "#f0f921"
             ]
            ],
            "type": "contour"
           }
          ],
          "contourcarpet": [
           {
            "colorbar": {
             "outlinewidth": 0,
             "ticks": ""
            },
            "type": "contourcarpet"
           }
          ],
          "heatmap": [
           {
            "colorbar": {
             "outlinewidth": 0,
             "ticks": ""
            },
            "colorscale": [
             [
              0,
              "#0d0887"
             ],
             [
              0.1111111111111111,
              "#46039f"
             ],
             [
              0.2222222222222222,
              "#7201a8"
             ],
             [
              0.3333333333333333,
              "#9c179e"
             ],
             [
              0.4444444444444444,
              "#bd3786"
             ],
             [
              0.5555555555555556,
              "#d8576b"
             ],
             [
              0.6666666666666666,
              "#ed7953"
             ],
             [
              0.7777777777777778,
              "#fb9f3a"
             ],
             [
              0.8888888888888888,
              "#fdca26"
             ],
             [
              1,
              "#f0f921"
             ]
            ],
            "type": "heatmap"
           }
          ],
          "heatmapgl": [
           {
            "colorbar": {
             "outlinewidth": 0,
             "ticks": ""
            },
            "colorscale": [
             [
              0,
              "#0d0887"
             ],
             [
              0.1111111111111111,
              "#46039f"
             ],
             [
              0.2222222222222222,
              "#7201a8"
             ],
             [
              0.3333333333333333,
              "#9c179e"
             ],
             [
              0.4444444444444444,
              "#bd3786"
             ],
             [
              0.5555555555555556,
              "#d8576b"
             ],
             [
              0.6666666666666666,
              "#ed7953"
             ],
             [
              0.7777777777777778,
              "#fb9f3a"
             ],
             [
              0.8888888888888888,
              "#fdca26"
             ],
             [
              1,
              "#f0f921"
             ]
            ],
            "type": "heatmapgl"
           }
          ],
          "histogram": [
           {
            "marker": {
             "pattern": {
              "fillmode": "overlay",
              "size": 10,
              "solidity": 0.2
             }
            },
            "type": "histogram"
           }
          ],
          "histogram2d": [
           {
            "colorbar": {
             "outlinewidth": 0,
             "ticks": ""
            },
            "colorscale": [
             [
              0,
              "#0d0887"
             ],
             [
              0.1111111111111111,
              "#46039f"
             ],
             [
              0.2222222222222222,
              "#7201a8"
             ],
             [
              0.3333333333333333,
              "#9c179e"
             ],
             [
              0.4444444444444444,
              "#bd3786"
             ],
             [
              0.5555555555555556,
              "#d8576b"
             ],
             [
              0.6666666666666666,
              "#ed7953"
             ],
             [
              0.7777777777777778,
              "#fb9f3a"
             ],
             [
              0.8888888888888888,
              "#fdca26"
             ],
             [
              1,
              "#f0f921"
             ]
            ],
            "type": "histogram2d"
           }
          ],
          "histogram2dcontour": [
           {
            "colorbar": {
             "outlinewidth": 0,
             "ticks": ""
            },
            "colorscale": [
             [
              0,
              "#0d0887"
             ],
             [
              0.1111111111111111,
              "#46039f"
             ],
             [
              0.2222222222222222,
              "#7201a8"
             ],
             [
              0.3333333333333333,
              "#9c179e"
             ],
             [
              0.4444444444444444,
              "#bd3786"
             ],
             [
              0.5555555555555556,
              "#d8576b"
             ],
             [
              0.6666666666666666,
              "#ed7953"
             ],
             [
              0.7777777777777778,
              "#fb9f3a"
             ],
             [
              0.8888888888888888,
              "#fdca26"
             ],
             [
              1,
              "#f0f921"
             ]
            ],
            "type": "histogram2dcontour"
           }
          ],
          "mesh3d": [
           {
            "colorbar": {
             "outlinewidth": 0,
             "ticks": ""
            },
            "type": "mesh3d"
           }
          ],
          "parcoords": [
           {
            "line": {
             "colorbar": {
              "outlinewidth": 0,
              "ticks": ""
             }
            },
            "type": "parcoords"
           }
          ],
          "pie": [
           {
            "automargin": true,
            "type": "pie"
           }
          ],
          "scatter": [
           {
            "fillpattern": {
             "fillmode": "overlay",
             "size": 10,
             "solidity": 0.2
            },
            "type": "scatter"
           }
          ],
          "scatter3d": [
           {
            "line": {
             "colorbar": {
              "outlinewidth": 0,
              "ticks": ""
             }
            },
            "marker": {
             "colorbar": {
              "outlinewidth": 0,
              "ticks": ""
             }
            },
            "type": "scatter3d"
           }
          ],
          "scattercarpet": [
           {
            "marker": {
             "colorbar": {
              "outlinewidth": 0,
              "ticks": ""
             }
            },
            "type": "scattercarpet"
           }
          ],
          "scattergeo": [
           {
            "marker": {
             "colorbar": {
              "outlinewidth": 0,
              "ticks": ""
             }
            },
            "type": "scattergeo"
           }
          ],
          "scattergl": [
           {
            "marker": {
             "colorbar": {
              "outlinewidth": 0,
              "ticks": ""
             }
            },
            "type": "scattergl"
           }
          ],
          "scattermapbox": [
           {
            "marker": {
             "colorbar": {
              "outlinewidth": 0,
              "ticks": ""
             }
            },
            "type": "scattermapbox"
           }
          ],
          "scatterpolar": [
           {
            "marker": {
             "colorbar": {
              "outlinewidth": 0,
              "ticks": ""
             }
            },
            "type": "scatterpolar"
           }
          ],
          "scatterpolargl": [
           {
            "marker": {
             "colorbar": {
              "outlinewidth": 0,
              "ticks": ""
             }
            },
            "type": "scatterpolargl"
           }
          ],
          "scatterternary": [
           {
            "marker": {
             "colorbar": {
              "outlinewidth": 0,
              "ticks": ""
             }
            },
            "type": "scatterternary"
           }
          ],
          "surface": [
           {
            "colorbar": {
             "outlinewidth": 0,
             "ticks": ""
            },
            "colorscale": [
             [
              0,
              "#0d0887"
             ],
             [
              0.1111111111111111,
              "#46039f"
             ],
             [
              0.2222222222222222,
              "#7201a8"
             ],
             [
              0.3333333333333333,
              "#9c179e"
             ],
             [
              0.4444444444444444,
              "#bd3786"
             ],
             [
              0.5555555555555556,
              "#d8576b"
             ],
             [
              0.6666666666666666,
              "#ed7953"
             ],
             [
              0.7777777777777778,
              "#fb9f3a"
             ],
             [
              0.8888888888888888,
              "#fdca26"
             ],
             [
              1,
              "#f0f921"
             ]
            ],
            "type": "surface"
           }
          ],
          "table": [
           {
            "cells": {
             "fill": {
              "color": "#EBF0F8"
             },
             "line": {
              "color": "white"
             }
            },
            "header": {
             "fill": {
              "color": "#C8D4E3"
             },
             "line": {
              "color": "white"
             }
            },
            "type": "table"
           }
          ]
         },
         "layout": {
          "annotationdefaults": {
           "arrowcolor": "#2a3f5f",
           "arrowhead": 0,
           "arrowwidth": 1
          },
          "autotypenumbers": "strict",
          "coloraxis": {
           "colorbar": {
            "outlinewidth": 0,
            "ticks": ""
           }
          },
          "colorscale": {
           "diverging": [
            [
             0,
             "#8e0152"
            ],
            [
             0.1,
             "#c51b7d"
            ],
            [
             0.2,
             "#de77ae"
            ],
            [
             0.3,
             "#f1b6da"
            ],
            [
             0.4,
             "#fde0ef"
            ],
            [
             0.5,
             "#f7f7f7"
            ],
            [
             0.6,
             "#e6f5d0"
            ],
            [
             0.7,
             "#b8e186"
            ],
            [
             0.8,
             "#7fbc41"
            ],
            [
             0.9,
             "#4d9221"
            ],
            [
             1,
             "#276419"
            ]
           ],
           "sequential": [
            [
             0,
             "#0d0887"
            ],
            [
             0.1111111111111111,
             "#46039f"
            ],
            [
             0.2222222222222222,
             "#7201a8"
            ],
            [
             0.3333333333333333,
             "#9c179e"
            ],
            [
             0.4444444444444444,
             "#bd3786"
            ],
            [
             0.5555555555555556,
             "#d8576b"
            ],
            [
             0.6666666666666666,
             "#ed7953"
            ],
            [
             0.7777777777777778,
             "#fb9f3a"
            ],
            [
             0.8888888888888888,
             "#fdca26"
            ],
            [
             1,
             "#f0f921"
            ]
           ],
           "sequentialminus": [
            [
             0,
             "#0d0887"
            ],
            [
             0.1111111111111111,
             "#46039f"
            ],
            [
             0.2222222222222222,
             "#7201a8"
            ],
            [
             0.3333333333333333,
             "#9c179e"
            ],
            [
             0.4444444444444444,
             "#bd3786"
            ],
            [
             0.5555555555555556,
             "#d8576b"
            ],
            [
             0.6666666666666666,
             "#ed7953"
            ],
            [
             0.7777777777777778,
             "#fb9f3a"
            ],
            [
             0.8888888888888888,
             "#fdca26"
            ],
            [
             1,
             "#f0f921"
            ]
           ]
          },
          "colorway": [
           "#636efa",
           "#EF553B",
           "#00cc96",
           "#ab63fa",
           "#FFA15A",
           "#19d3f3",
           "#FF6692",
           "#B6E880",
           "#FF97FF",
           "#FECB52"
          ],
          "font": {
           "color": "#2a3f5f"
          },
          "geo": {
           "bgcolor": "white",
           "lakecolor": "white",
           "landcolor": "#E5ECF6",
           "showlakes": true,
           "showland": true,
           "subunitcolor": "white"
          },
          "hoverlabel": {
           "align": "left"
          },
          "hovermode": "closest",
          "mapbox": {
           "style": "light"
          },
          "paper_bgcolor": "white",
          "plot_bgcolor": "#E5ECF6",
          "polar": {
           "angularaxis": {
            "gridcolor": "white",
            "linecolor": "white",
            "ticks": ""
           },
           "bgcolor": "#E5ECF6",
           "radialaxis": {
            "gridcolor": "white",
            "linecolor": "white",
            "ticks": ""
           }
          },
          "scene": {
           "xaxis": {
            "backgroundcolor": "#E5ECF6",
            "gridcolor": "white",
            "gridwidth": 2,
            "linecolor": "white",
            "showbackground": true,
            "ticks": "",
            "zerolinecolor": "white"
           },
           "yaxis": {
            "backgroundcolor": "#E5ECF6",
            "gridcolor": "white",
            "gridwidth": 2,
            "linecolor": "white",
            "showbackground": true,
            "ticks": "",
            "zerolinecolor": "white"
           },
           "zaxis": {
            "backgroundcolor": "#E5ECF6",
            "gridcolor": "white",
            "gridwidth": 2,
            "linecolor": "white",
            "showbackground": true,
            "ticks": "",
            "zerolinecolor": "white"
           }
          },
          "shapedefaults": {
           "line": {
            "color": "#2a3f5f"
           }
          },
          "ternary": {
           "aaxis": {
            "gridcolor": "white",
            "linecolor": "white",
            "ticks": ""
           },
           "baxis": {
            "gridcolor": "white",
            "linecolor": "white",
            "ticks": ""
           },
           "bgcolor": "#E5ECF6",
           "caxis": {
            "gridcolor": "white",
            "linecolor": "white",
            "ticks": ""
           }
          },
          "title": {
           "x": 0.05
          },
          "xaxis": {
           "automargin": true,
           "gridcolor": "white",
           "linecolor": "white",
           "ticks": "",
           "title": {
            "standoff": 15
           },
           "zerolinecolor": "white",
           "zerolinewidth": 2
          },
          "yaxis": {
           "automargin": true,
           "gridcolor": "white",
           "linecolor": "white",
           "ticks": "",
           "title": {
            "standoff": 15
           },
           "zerolinecolor": "white",
           "zerolinewidth": 2
          }
         }
        },
        "width": 1300,
        "xaxis": {
         "anchor": "y",
         "domain": [
          0,
          1
         ],
         "title": {
          "text": "Distance (mm)"
         }
        },
        "yaxis": {
         "anchor": "x",
         "domain": [
          0,
          0.34
         ],
         "title": {
          "text": "Integrated Charge"
         }
        }
       }
      }
     },
     "metadata": {},
     "output_type": "display_data"
    }
   ],
   "source": [
    "# Plot event\n",
    "event = random.randint(min_event, max_event)\n",
    "# event = 23787\n",
    "print(f'Event {event}')\n",
    "event_data = cloud_group[f'cloud_{event}']\n",
    "cloud = PointCloud()\n",
    "cloud.load_cloud_from_hdf5_data(event_data[:].copy(), event)\n",
    "print(f'Cloud size: {len(cloud.cloud)}')\n",
    "\n",
    "fig = make_subplots(2,1,specs=[[{\"type\": \"scene\"}],[{\"type\": \"xy\"}]],row_heights=[0.6,0.4])\n",
    "fig.add_trace(\n",
    "    go.Scatter3d(\n",
    "        x=cloud.cloud[:, 2], \n",
    "        y=cloud.cloud[:, 0], \n",
    "        z=cloud.cloud[:, 1], \n",
    "        mode=\"markers\", \n",
    "        marker= {\n",
    "            \"size\": 3, \n",
    "            \"color\": cloud.cloud[:, 3], \n",
    "            \"showscale\": True\n",
    "        }, \n",
    "        name=\"Point Cloud\"\n",
    "    ),\n",
    "    row=1,\n",
    "    col=1\n",
    ")\n",
    "fig.add_trace(\n",
    "    go.Scatter(x=np.linalg.norm(cloud.cloud[:, :3], axis=1), y=cloud.cloud[:, 4], mode=\"markers\", name=\"Charge\"),\n",
    "    row=2,\n",
    "    col=1\n",
    ")\n",
    "fig.update_layout(\n",
    "    xaxis_title=\"Distance (mm)\",\n",
    "    yaxis_title=\"Integrated Charge\",\n",
    "    scene = {\n",
    "        \"xaxis_range\": [0.0, 1000.0],\n",
    "        \"yaxis_range\": [-300.0, 300.0],\n",
    "        \"zaxis_range\": [-300.0, 300.0],\n",
    "        \"xaxis_title\": \"Z (mm)\",\n",
    "        \"yaxis_title\": \"X (mm)\",\n",
    "        \"zaxis_title\": \"Y (mm)\",\n",
    "        \"aspectratio\": {\n",
    "            \"x\": 3.3,\n",
    "            \"y\": 1.0,\n",
    "            \"z\": 1.0\n",
    "        }\n",
    "    },\n",
    "    width=1300,\n",
    "    height=1000,\n",
    ")"
   ]
  },
  {
   "cell_type": "code",
   "execution_count": 187,
   "metadata": {},
   "outputs": [
    {
     "name": "stdout",
     "output_type": "stream",
     "text": [
      "Size: 99\n"
     ]
    }
   ],
   "source": [
    "# Perform clustering\n",
    "clusters = form_clusters(cloud, cluster_params)\n",
    "total_points = 0\n",
    "for cluster in clusters:\n",
    "    total_points += len(cluster.point_cloud.cloud)\n",
    "print(f\"Size: {total_points}\")"
   ]
  },
  {
   "cell_type": "code",
   "execution_count": 188,
   "metadata": {},
   "outputs": [
    {
     "data": {
      "application/vnd.plotly.v1+json": {
       "config": {
        "plotlyServerURL": "https://plot.ly"
       },
       "data": [
        {
         "legendgroup": "clusters",
         "marker": {
          "color": "black",
          "size": 3
         },
         "mode": "markers",
         "name": "Cluster -1",
         "scene": "scene",
         "type": "scatter3d",
         "x": [
          666.6765517074947
         ],
         "y": [
          206.14587
         ],
         "z": [
          -63.759846
         ]
        },
        {
         "legendgroup": "clusters",
         "marker": {
          "color": "black"
         },
         "mode": "markers",
         "name": "Cluster -1",
         "showlegend": false,
         "type": "scatter",
         "x": [
          700.7275235614742
         ],
         "xaxis": "x",
         "y": [
          64
         ],
         "yaxis": "y"
        },
        {
         "legendgroup": "clusters",
         "marker": {
          "color": "rgb(31, 119, 180)",
          "size": 3
         },
         "mode": "markers",
         "name": "Cluster 0",
         "scene": "scene",
         "type": "scatter3d",
         "x": [
          260.31432775711204,
          256.30149466207195,
          258.58365069148437,
          283.86250488498604,
          259.29882028310374,
          258.3446242945486,
          260.4258295792875,
          299.89191515003836,
          295.73063670513653,
          299.25927308947075,
          296.38801380558266
         ],
         "y": [
          -4.9082351,
          -12.270588,
          -12.270588,
          -7.3623528,
          -7.3623528,
          -4.9082351,
          -12.270588,
          -12.270588,
          -7.3623528,
          -9.8164701,
          -9.8164701
         ],
         "z": [
          40.381233,
          82.887802,
          87.138458,
          19.127953,
          87.138458,
          87.138458,
          70.135826,
          27.629267,
          61.634518,
          19.127953,
          23.378611
         ]
        },
        {
         "legendgroup": "clusters",
         "marker": {
          "color": "rgb(31, 119, 180)"
         },
         "mode": "markers",
         "name": "Cluster 0",
         "showlegend": false,
         "type": "scatter",
         "x": [
          263.4734976919582,
          269.6505353532031,
          273.14681509660534,
          284.6014836649672,
          273.64793677566576,
          272.6887356241657,
          269.98372938128716,
          301.4118519520771,
          302.1748294181192,
          300.0305887759327,
          297.4706326095599
         ],
         "xaxis": "x",
         "y": [
          311,
          81,
          213,
          3135,
          102,
          405,
          77,
          86,
          99,
          3644,
          113
         ],
         "yaxis": "y"
        },
        {
         "legendgroup": "clusters",
         "marker": {
          "color": "rgb(255, 127, 14)",
          "size": 3
         },
         "mode": "markers",
         "name": "Cluster 1",
         "scene": "scene",
         "type": "scatter3d",
         "x": [
          270.23150953243106,
          282.24522469067614,
          275.8210550833828,
          264.47101749414554,
          75.45056825907898,
          69.64084708146406,
          71.40893362656465,
          62.484021856123064,
          53.438183482185465,
          48.32283742383062,
          56.00422029797623,
          65.68171321422429,
          70.86380766866264,
          75.42865027531464,
          169.80499233226763,
          173.41335618079515,
          171.55862579954973,
          173.7910123719124,
          167.06230117873386,
          177.8470116418979,
          180.1509634590767,
          184.61553295999866,
          192.5340379337468,
          141.52952805782223,
          151.45783070691883,
          145.32930309245575,
          141.67053052680654,
          155.36257947000607,
          151.60323910504846,
          143.99645224692512,
          157.70611941877308,
          159.8806285376749,
          165.39201236874078,
          141.36144370877355,
          137.35834058784351,
          107.79039442513523,
          105.42958625731265,
          101.03738580137664,
          119.95743092995427,
          117.4334673443526,
          97.30348636621518,
          102.47578037174418,
          95.08453901475318,
          89.42817226588193,
          81.16538017153167,
          133.69135789076984,
          81.41776233130533,
          86.99118954307889,
          92.2735967395295,
          102.2263735566732,
          131.1085584254606,
          127.0378296680414,
          117.35211699660032,
          122.13827510795167,
          110.52517281017322,
          533.4467188749492,
          326.0198981267528,
          305.58316982421115,
          297.5258469741593,
          288.72427566547145,
          254.5674097822253,
          258.1996368508568,
          263.8265875816458,
          235.9356802782605,
          240.25157586885533,
          242.27454479200392,
          245.51958548983526,
          248.7645059171114,
          248.5580663081565,
          258.3457388620226,
          222.88686913594995,
          228.10442265838185,
          216.70187270291441,
          217.79749949627626,
          225.7728929271053,
          225.36446105754197,
          207.9850034284383,
          206.56665681172694,
          233.52681058947616,
          151.16578925850578,
          193.22070108957848,
          191.1642942919786,
          198.83590657794724,
          197.68381316991588,
          204.333504663528,
          206.78607325234694,
          104.50679822162444
         ],
         "y": [
          83.439995,
          93.25647,
          88.348236,
          78.531761,
          -9.8164701,
          -12.270588,
          -12.270588,
          -12.270588,
          -9.8164701,
          -7.3623528,
          -9.8164701,
          -9.8164701,
          -9.8164701,
          -9.8164701,
          14.724706,
          17.178823,
          17.178823,
          19.63294,
          14.724706,
          22.087059,
          22.087059,
          24.541176,
          26.995293,
          0,
          4.9082351,
          4.9082351,
          4.9082351,
          9.8164701,
          7.3623528,
          2.4541175,
          9.8164701,
          12.270588,
          12.270588,
          2.4541175,
          2.4541175,
          -9.8164701,
          -4.9082351,
          -7.3623528,
          -4.9082351,
          -4.9082351,
          -9.8164701,
          -9.8164701,
          -9.8164701,
          -9.8164701,
          -9.8164701,
          0,
          -12.270588,
          -12.270588,
          -12.270588,
          -12.270588,
          -2.4541175,
          -2.4541175,
          -7.3623528,
          -2.4541175,
          -7.3623528,
          206.14587,
          206.14587,
          107.98117,
          103.07294,
          98.164703,
          73.623528,
          76.077644,
          78.531761,
          58.898823,
          61.35294,
          63.807056,
          66.261177,
          68.715294,
          68.715294,
          73.623528,
          51.536469,
          53.990585,
          44.174118,
          46.628235,
          49.082352,
          51.536469,
          39.265881,
          39.265881,
          56.444706,
          7.3623528,
          29.449411,
          29.449411,
          31.903528,
          31.903528,
          34.357647,
          36.811764,
          -7.3623528
         ],
         "z": [
          -131.77034,
          -131.77034,
          -131.77034,
          -129.64502,
          -40.381233,
          -36.130577,
          -31.879923,
          -27.629267,
          -19.127953,
          -19.127953,
          -23.378611,
          -27.629267,
          -31.879923,
          -36.130577,
          -108.39174,
          -108.39174,
          -104.14108,
          -108.39174,
          -104.14108,
          -112.6424,
          -108.39174,
          -112.6424,
          -116.89305,
          -87.138458,
          -95.639771,
          -91.389114,
          -87.138458,
          -95.639771,
          -95.639771,
          -91.389114,
          -99.890427,
          -99.890427,
          -104.14108,
          -87.138458,
          -82.887802,
          -65.88517,
          -61.634518,
          -57.383862,
          -74.386482,
          -70.135826,
          -57.383862,
          -61.634518,
          -53.133205,
          -48.882549,
          -44.631893,
          -82.887802,
          -44.631893,
          -48.882549,
          -53.133205,
          -57.383862,
          -82.887802,
          -78.637138,
          -70.135826,
          -74.386482,
          -65.88517,
          -63.759846,
          -63.759846,
          -131.77034,
          -131.77034,
          -131.77034,
          -129.64502,
          -133.89568,
          -133.89568,
          -129.64502,
          -129.64502,
          -129.64502,
          -129.64502,
          -133.89568,
          -129.64502,
          -133.89568,
          -129.64502,
          -129.64502,
          -125.39436,
          -125.39436,
          -125.39436,
          -125.39436,
          -125.39436,
          -121.14371,
          -129.64502,
          -91.389114,
          -116.89305,
          -112.6424,
          -116.89305,
          -121.14371,
          -121.14371,
          -121.14371,
          -61.634518
         ]
        },
        {
         "legendgroup": "clusters",
         "marker": {
          "color": "rgb(255, 127, 14)"
         },
         "mode": "markers",
         "name": "Cluster 1",
         "showlegend": false,
         "type": "scatter",
         "x": [
          312.0107754765723,
          325.1500554532734,
          318.191903943733,
          304.827800226538,
          86.13823375506615,
          79.40927846569653,
          79.15890740804087,
          69.41323153505748,
          57.60105142330409,
          52.48980321368944,
          61.47678609603602,
          71.92931899397553,
          78.32223064374082,
          84.20963698967503,
          201.98841968780167,
          205.22200993504632,
          201.42700561111874,
          205.76087483903592,
          197.41325686358255,
          211.6735883453173,
          211.40240564083152,
          217.65448446408664,
          226.8525660986267,
          166.2038452469968,
          179.19411555956572,
          171.74593813782244,
          166.39633666088164,
          182.70429656067364,
          179.40098144332043,
          170.56661780697237,
          186.93763824761146,
          188.9192423172136,
          195.8327082711513,
          166.07887078960505,
          160.44850931729167,
          126.71222451476147,
          122.2223475444541,
          116.42879878433402,
          141.23464416157938,
          136.87126839850748,
          113.38976656770866,
          119.9852593326133,
          109.36439145555713,
          102.38781507961701,
          93.14605679456811,
          157.3015158702201,
          93.65588729848281,
          100.53625209208379,
          107.18265465403941,
          117.87156738776862,
          155.13176497899266,
          149.4270133955074,
          136.9114958322993,
          143.0284225019133,
          128.88317845785468,
          575.4362167594683,
          390.9608825120218,
          349.86344372926015,
          341.3342688357705,
          332.2069216276882,
          295.01325598894465,
          300.6375118130927,
          306.1041635185633,
          275.5767548069889,
          279.8085669969959,
          282.09240801616806,
          285.443937836007,
          290.7466666298229,
          288.6359907689212,
          300.15162465992677,
          262.94941582177825,
          267.87019639324626,
          254.23375042239698,
          255.60455513518394,
          262.88062305604734,
          262.9997974610511,
          246.01487065143695,
          242.6672445750436,
          272.9992807871843,
          176.7972574408428,
          227.7399663565832,
          223.8288754789183,
          232.84659753112874,
          234.03530409066298,
          240.01755666621708,
          242.4693476142516,
          121.55117820234946
         ],
         "xaxis": "x",
         "y": [
          370,
          420,
          506,
          70,
          92,
          95,
          133,
          73,
          50,
          71,
          95,
          184,
          287,
          70,
          168,
          123,
          152,
          149,
          363,
          146,
          164,
          111,
          131,
          112,
          72,
          259,
          90,
          160,
          356,
          64,
          329,
          455,
          294,
          251,
          130,
          141,
          69,
          161,
          199,
          221,
          420,
          204,
          224,
          178,
          125,
          184,
          106,
          166,
          72,
          84,
          101,
          394,
          152,
          163,
          157,
          64,
          64,
          1303,
          288,
          577,
          228,
          81,
          326,
          306,
          361,
          637,
          189,
          99,
          312,
          441,
          242,
          87,
          299,
          404,
          176,
          303,
          76,
          259,
          425,
          109,
          725,
          170,
          228,
          81,
          161,
          342,
          214
         ],
         "yaxis": "y"
        }
       ],
       "layout": {
        "height": 1000,
        "scene": {
         "aspectratio": {
          "x": 3.3,
          "y": 1,
          "z": 1
         },
         "domain": {
          "x": [
           0,
           1
          ],
          "y": [
           0.49,
           1
          ]
         },
         "xaxis": {
          "range": [
           0,
           1000
          ],
          "title": {
           "text": "Z (mm)"
          }
         },
         "yaxis": {
          "range": [
           -300,
           300
          ],
          "title": {
           "text": "X (mm)"
          }
         },
         "zaxis": {
          "range": [
           -300,
           300
          ],
          "title": {
           "text": "Y (mm)"
          }
         }
        },
        "template": {
         "data": {
          "bar": [
           {
            "error_x": {
             "color": "#2a3f5f"
            },
            "error_y": {
             "color": "#2a3f5f"
            },
            "marker": {
             "line": {
              "color": "#E5ECF6",
              "width": 0.5
             },
             "pattern": {
              "fillmode": "overlay",
              "size": 10,
              "solidity": 0.2
             }
            },
            "type": "bar"
           }
          ],
          "barpolar": [
           {
            "marker": {
             "line": {
              "color": "#E5ECF6",
              "width": 0.5
             },
             "pattern": {
              "fillmode": "overlay",
              "size": 10,
              "solidity": 0.2
             }
            },
            "type": "barpolar"
           }
          ],
          "carpet": [
           {
            "aaxis": {
             "endlinecolor": "#2a3f5f",
             "gridcolor": "white",
             "linecolor": "white",
             "minorgridcolor": "white",
             "startlinecolor": "#2a3f5f"
            },
            "baxis": {
             "endlinecolor": "#2a3f5f",
             "gridcolor": "white",
             "linecolor": "white",
             "minorgridcolor": "white",
             "startlinecolor": "#2a3f5f"
            },
            "type": "carpet"
           }
          ],
          "choropleth": [
           {
            "colorbar": {
             "outlinewidth": 0,
             "ticks": ""
            },
            "type": "choropleth"
           }
          ],
          "contour": [
           {
            "colorbar": {
             "outlinewidth": 0,
             "ticks": ""
            },
            "colorscale": [
             [
              0,
              "#0d0887"
             ],
             [
              0.1111111111111111,
              "#46039f"
             ],
             [
              0.2222222222222222,
              "#7201a8"
             ],
             [
              0.3333333333333333,
              "#9c179e"
             ],
             [
              0.4444444444444444,
              "#bd3786"
             ],
             [
              0.5555555555555556,
              "#d8576b"
             ],
             [
              0.6666666666666666,
              "#ed7953"
             ],
             [
              0.7777777777777778,
              "#fb9f3a"
             ],
             [
              0.8888888888888888,
              "#fdca26"
             ],
             [
              1,
              "#f0f921"
             ]
            ],
            "type": "contour"
           }
          ],
          "contourcarpet": [
           {
            "colorbar": {
             "outlinewidth": 0,
             "ticks": ""
            },
            "type": "contourcarpet"
           }
          ],
          "heatmap": [
           {
            "colorbar": {
             "outlinewidth": 0,
             "ticks": ""
            },
            "colorscale": [
             [
              0,
              "#0d0887"
             ],
             [
              0.1111111111111111,
              "#46039f"
             ],
             [
              0.2222222222222222,
              "#7201a8"
             ],
             [
              0.3333333333333333,
              "#9c179e"
             ],
             [
              0.4444444444444444,
              "#bd3786"
             ],
             [
              0.5555555555555556,
              "#d8576b"
             ],
             [
              0.6666666666666666,
              "#ed7953"
             ],
             [
              0.7777777777777778,
              "#fb9f3a"
             ],
             [
              0.8888888888888888,
              "#fdca26"
             ],
             [
              1,
              "#f0f921"
             ]
            ],
            "type": "heatmap"
           }
          ],
          "heatmapgl": [
           {
            "colorbar": {
             "outlinewidth": 0,
             "ticks": ""
            },
            "colorscale": [
             [
              0,
              "#0d0887"
             ],
             [
              0.1111111111111111,
              "#46039f"
             ],
             [
              0.2222222222222222,
              "#7201a8"
             ],
             [
              0.3333333333333333,
              "#9c179e"
             ],
             [
              0.4444444444444444,
              "#bd3786"
             ],
             [
              0.5555555555555556,
              "#d8576b"
             ],
             [
              0.6666666666666666,
              "#ed7953"
             ],
             [
              0.7777777777777778,
              "#fb9f3a"
             ],
             [
              0.8888888888888888,
              "#fdca26"
             ],
             [
              1,
              "#f0f921"
             ]
            ],
            "type": "heatmapgl"
           }
          ],
          "histogram": [
           {
            "marker": {
             "pattern": {
              "fillmode": "overlay",
              "size": 10,
              "solidity": 0.2
             }
            },
            "type": "histogram"
           }
          ],
          "histogram2d": [
           {
            "colorbar": {
             "outlinewidth": 0,
             "ticks": ""
            },
            "colorscale": [
             [
              0,
              "#0d0887"
             ],
             [
              0.1111111111111111,
              "#46039f"
             ],
             [
              0.2222222222222222,
              "#7201a8"
             ],
             [
              0.3333333333333333,
              "#9c179e"
             ],
             [
              0.4444444444444444,
              "#bd3786"
             ],
             [
              0.5555555555555556,
              "#d8576b"
             ],
             [
              0.6666666666666666,
              "#ed7953"
             ],
             [
              0.7777777777777778,
              "#fb9f3a"
             ],
             [
              0.8888888888888888,
              "#fdca26"
             ],
             [
              1,
              "#f0f921"
             ]
            ],
            "type": "histogram2d"
           }
          ],
          "histogram2dcontour": [
           {
            "colorbar": {
             "outlinewidth": 0,
             "ticks": ""
            },
            "colorscale": [
             [
              0,
              "#0d0887"
             ],
             [
              0.1111111111111111,
              "#46039f"
             ],
             [
              0.2222222222222222,
              "#7201a8"
             ],
             [
              0.3333333333333333,
              "#9c179e"
             ],
             [
              0.4444444444444444,
              "#bd3786"
             ],
             [
              0.5555555555555556,
              "#d8576b"
             ],
             [
              0.6666666666666666,
              "#ed7953"
             ],
             [
              0.7777777777777778,
              "#fb9f3a"
             ],
             [
              0.8888888888888888,
              "#fdca26"
             ],
             [
              1,
              "#f0f921"
             ]
            ],
            "type": "histogram2dcontour"
           }
          ],
          "mesh3d": [
           {
            "colorbar": {
             "outlinewidth": 0,
             "ticks": ""
            },
            "type": "mesh3d"
           }
          ],
          "parcoords": [
           {
            "line": {
             "colorbar": {
              "outlinewidth": 0,
              "ticks": ""
             }
            },
            "type": "parcoords"
           }
          ],
          "pie": [
           {
            "automargin": true,
            "type": "pie"
           }
          ],
          "scatter": [
           {
            "fillpattern": {
             "fillmode": "overlay",
             "size": 10,
             "solidity": 0.2
            },
            "type": "scatter"
           }
          ],
          "scatter3d": [
           {
            "line": {
             "colorbar": {
              "outlinewidth": 0,
              "ticks": ""
             }
            },
            "marker": {
             "colorbar": {
              "outlinewidth": 0,
              "ticks": ""
             }
            },
            "type": "scatter3d"
           }
          ],
          "scattercarpet": [
           {
            "marker": {
             "colorbar": {
              "outlinewidth": 0,
              "ticks": ""
             }
            },
            "type": "scattercarpet"
           }
          ],
          "scattergeo": [
           {
            "marker": {
             "colorbar": {
              "outlinewidth": 0,
              "ticks": ""
             }
            },
            "type": "scattergeo"
           }
          ],
          "scattergl": [
           {
            "marker": {
             "colorbar": {
              "outlinewidth": 0,
              "ticks": ""
             }
            },
            "type": "scattergl"
           }
          ],
          "scattermapbox": [
           {
            "marker": {
             "colorbar": {
              "outlinewidth": 0,
              "ticks": ""
             }
            },
            "type": "scattermapbox"
           }
          ],
          "scatterpolar": [
           {
            "marker": {
             "colorbar": {
              "outlinewidth": 0,
              "ticks": ""
             }
            },
            "type": "scatterpolar"
           }
          ],
          "scatterpolargl": [
           {
            "marker": {
             "colorbar": {
              "outlinewidth": 0,
              "ticks": ""
             }
            },
            "type": "scatterpolargl"
           }
          ],
          "scatterternary": [
           {
            "marker": {
             "colorbar": {
              "outlinewidth": 0,
              "ticks": ""
             }
            },
            "type": "scatterternary"
           }
          ],
          "surface": [
           {
            "colorbar": {
             "outlinewidth": 0,
             "ticks": ""
            },
            "colorscale": [
             [
              0,
              "#0d0887"
             ],
             [
              0.1111111111111111,
              "#46039f"
             ],
             [
              0.2222222222222222,
              "#7201a8"
             ],
             [
              0.3333333333333333,
              "#9c179e"
             ],
             [
              0.4444444444444444,
              "#bd3786"
             ],
             [
              0.5555555555555556,
              "#d8576b"
             ],
             [
              0.6666666666666666,
              "#ed7953"
             ],
             [
              0.7777777777777778,
              "#fb9f3a"
             ],
             [
              0.8888888888888888,
              "#fdca26"
             ],
             [
              1,
              "#f0f921"
             ]
            ],
            "type": "surface"
           }
          ],
          "table": [
           {
            "cells": {
             "fill": {
              "color": "#EBF0F8"
             },
             "line": {
              "color": "white"
             }
            },
            "header": {
             "fill": {
              "color": "#C8D4E3"
             },
             "line": {
              "color": "white"
             }
            },
            "type": "table"
           }
          ]
         },
         "layout": {
          "annotationdefaults": {
           "arrowcolor": "#2a3f5f",
           "arrowhead": 0,
           "arrowwidth": 1
          },
          "autotypenumbers": "strict",
          "coloraxis": {
           "colorbar": {
            "outlinewidth": 0,
            "ticks": ""
           }
          },
          "colorscale": {
           "diverging": [
            [
             0,
             "#8e0152"
            ],
            [
             0.1,
             "#c51b7d"
            ],
            [
             0.2,
             "#de77ae"
            ],
            [
             0.3,
             "#f1b6da"
            ],
            [
             0.4,
             "#fde0ef"
            ],
            [
             0.5,
             "#f7f7f7"
            ],
            [
             0.6,
             "#e6f5d0"
            ],
            [
             0.7,
             "#b8e186"
            ],
            [
             0.8,
             "#7fbc41"
            ],
            [
             0.9,
             "#4d9221"
            ],
            [
             1,
             "#276419"
            ]
           ],
           "sequential": [
            [
             0,
             "#0d0887"
            ],
            [
             0.1111111111111111,
             "#46039f"
            ],
            [
             0.2222222222222222,
             "#7201a8"
            ],
            [
             0.3333333333333333,
             "#9c179e"
            ],
            [
             0.4444444444444444,
             "#bd3786"
            ],
            [
             0.5555555555555556,
             "#d8576b"
            ],
            [
             0.6666666666666666,
             "#ed7953"
            ],
            [
             0.7777777777777778,
             "#fb9f3a"
            ],
            [
             0.8888888888888888,
             "#fdca26"
            ],
            [
             1,
             "#f0f921"
            ]
           ],
           "sequentialminus": [
            [
             0,
             "#0d0887"
            ],
            [
             0.1111111111111111,
             "#46039f"
            ],
            [
             0.2222222222222222,
             "#7201a8"
            ],
            [
             0.3333333333333333,
             "#9c179e"
            ],
            [
             0.4444444444444444,
             "#bd3786"
            ],
            [
             0.5555555555555556,
             "#d8576b"
            ],
            [
             0.6666666666666666,
             "#ed7953"
            ],
            [
             0.7777777777777778,
             "#fb9f3a"
            ],
            [
             0.8888888888888888,
             "#fdca26"
            ],
            [
             1,
             "#f0f921"
            ]
           ]
          },
          "colorway": [
           "#636efa",
           "#EF553B",
           "#00cc96",
           "#ab63fa",
           "#FFA15A",
           "#19d3f3",
           "#FF6692",
           "#B6E880",
           "#FF97FF",
           "#FECB52"
          ],
          "font": {
           "color": "#2a3f5f"
          },
          "geo": {
           "bgcolor": "white",
           "lakecolor": "white",
           "landcolor": "#E5ECF6",
           "showlakes": true,
           "showland": true,
           "subunitcolor": "white"
          },
          "hoverlabel": {
           "align": "left"
          },
          "hovermode": "closest",
          "mapbox": {
           "style": "light"
          },
          "paper_bgcolor": "white",
          "plot_bgcolor": "#E5ECF6",
          "polar": {
           "angularaxis": {
            "gridcolor": "white",
            "linecolor": "white",
            "ticks": ""
           },
           "bgcolor": "#E5ECF6",
           "radialaxis": {
            "gridcolor": "white",
            "linecolor": "white",
            "ticks": ""
           }
          },
          "scene": {
           "xaxis": {
            "backgroundcolor": "#E5ECF6",
            "gridcolor": "white",
            "gridwidth": 2,
            "linecolor": "white",
            "showbackground": true,
            "ticks": "",
            "zerolinecolor": "white"
           },
           "yaxis": {
            "backgroundcolor": "#E5ECF6",
            "gridcolor": "white",
            "gridwidth": 2,
            "linecolor": "white",
            "showbackground": true,
            "ticks": "",
            "zerolinecolor": "white"
           },
           "zaxis": {
            "backgroundcolor": "#E5ECF6",
            "gridcolor": "white",
            "gridwidth": 2,
            "linecolor": "white",
            "showbackground": true,
            "ticks": "",
            "zerolinecolor": "white"
           }
          },
          "shapedefaults": {
           "line": {
            "color": "#2a3f5f"
           }
          },
          "ternary": {
           "aaxis": {
            "gridcolor": "white",
            "linecolor": "white",
            "ticks": ""
           },
           "baxis": {
            "gridcolor": "white",
            "linecolor": "white",
            "ticks": ""
           },
           "bgcolor": "#E5ECF6",
           "caxis": {
            "gridcolor": "white",
            "linecolor": "white",
            "ticks": ""
           }
          },
          "title": {
           "x": 0.05
          },
          "xaxis": {
           "automargin": true,
           "gridcolor": "white",
           "linecolor": "white",
           "ticks": "",
           "title": {
            "standoff": 15
           },
           "zerolinecolor": "white",
           "zerolinewidth": 2
          },
          "yaxis": {
           "automargin": true,
           "gridcolor": "white",
           "linecolor": "white",
           "ticks": "",
           "title": {
            "standoff": 15
           },
           "zerolinecolor": "white",
           "zerolinewidth": 2
          }
         }
        },
        "width": 1300,
        "xaxis": {
         "anchor": "y",
         "domain": [
          0,
          1
         ],
         "title": {
          "text": "Distance (mm)"
         }
        },
        "yaxis": {
         "anchor": "x",
         "domain": [
          0,
          0.34
         ],
         "title": {
          "text": "Integrated Charge"
         }
        }
       }
      }
     },
     "metadata": {},
     "output_type": "display_data"
    }
   ],
   "source": [
    "fig = make_subplots(2,1,specs=[[{\"type\": \"scene\"}],[{\"type\": \"xy\"}]],row_heights=[0.6,0.4])\n",
    "scaled_data = np.zeros((len(cluster.point_cloud.cloud), 3))\n",
    "for cluster in clusters:\n",
    "    fig.add_trace(\n",
    "        go.Scatter3d(\n",
    "            x=cluster.point_cloud.cloud[:, 2], \n",
    "            y=cluster.point_cloud.cloud[:, 0], \n",
    "            z=cluster.point_cloud.cloud[:, 1], \n",
    "            mode=\"markers\",\n",
    "            legendgroup=\"clusters\",\n",
    "            marker= {\n",
    "                \"size\": 3,\n",
    "                \"color\": get_color(cluster.label)\n",
    "            }, \n",
    "            name=f\"Cluster {cluster.label}\"\n",
    "        ),\n",
    "        row=1,\n",
    "        col=1\n",
    "    )\n",
    "    fig.add_trace(\n",
    "        go.Scatter(\n",
    "            x=np.linalg.norm(cluster.point_cloud.cloud[:, :3], axis=1), \n",
    "            y=cluster.point_cloud.cloud[:, 3], \n",
    "            legendgroup=\"clusters\",\n",
    "            mode=\"markers\",\n",
    "            marker= {\n",
    "                \"color\": get_color(cluster.label)\n",
    "            },\n",
    "            showlegend=False,\n",
    "            name=f\"Cluster {cluster.label}\"\n",
    "        ),\n",
    "        row=2,\n",
    "        col=1\n",
    "    )\n",
    "fig.update_layout(\n",
    "    xaxis_title=\"Distance (mm)\",\n",
    "    yaxis_title=\"Integrated Charge\",\n",
    "    scene = {\n",
    "        \"xaxis_range\": [0.0, 1000.0],\n",
    "        \"yaxis_range\": [-300.0, 300.0],\n",
    "        \"zaxis_range\": [-300.0, 300.0],\n",
    "        \"xaxis_title\": \"Z (mm)\",\n",
    "        \"yaxis_title\": \"X (mm)\",\n",
    "        \"zaxis_title\": \"Y (mm)\",\n",
    "        \"aspectratio\": {\n",
    "            \"x\": 3.3,\n",
    "            \"y\": 1.0,\n",
    "            \"z\": 1.0\n",
    "        }\n",
    "    },\n",
    "    width=1300,\n",
    "    height=1000,\n",
    ")"
   ]
  },
  {
   "cell_type": "code",
   "execution_count": 190,
   "metadata": {},
   "outputs": [
    {
     "data": {
      "application/vnd.plotly.v1+json": {
       "config": {
        "plotlyServerURL": "https://plot.ly"
       },
       "data": [
        {
         "legendgroup": "clusters",
         "marker": {
          "color": "black",
          "size": 3
         },
         "mode": "markers",
         "name": "Cluster -1",
         "type": "scatter3d",
         "x": [
          389.3391061971769
         ],
         "y": [
          206.14587
         ],
         "z": [
          -63.759846
         ]
        },
        {
         "legendgroup": "clusters",
         "marker": {
          "color": "rgb(31, 119, 180)",
          "size": 3
         },
         "mode": "markers",
         "name": "Cluster 0",
         "type": "scatter3d",
         "x": [
          152.02356741015342,
          149.68007288265,
          151.01285200382685,
          165.77570285283184,
          151.43051104533257,
          150.8732605880164,
          152.08868447430388,
          175.1368784476224,
          172.70669183579972,
          174.7674154842509,
          173.09060006246025
         ],
         "y": [
          -4.9082351,
          -12.270588,
          -12.270588,
          -7.3623528,
          -7.3623528,
          -4.9082351,
          -12.270588,
          -12.270588,
          -7.3623528,
          -9.8164701,
          -9.8164701
         ],
         "z": [
          40.381233,
          82.887802,
          87.138458,
          19.127953,
          87.138458,
          87.138458,
          70.135826,
          27.629267,
          61.634518,
          19.127953,
          23.378611
         ]
        },
        {
         "legendgroup": "clusters",
         "marker": {
          "color": "rgb(255, 127, 14)",
          "size": 3
         },
         "mode": "markers",
         "name": "Cluster 1",
         "type": "scatter3d",
         "x": [
          157.81520156693972,
          164.83121121935486,
          161.07949616869556,
          154.451074216581,
          44.06313186330212,
          40.67025469557501,
          41.70281723791375,
          36.49066876397587,
          31.20789915359631,
          28.22053705551708,
          32.70646465401812,
          38.35812051710698,
          41.38446367849898,
          44.05033176078375,
          99.1661155220443,
          101.27340000958436,
          100.19023746693703,
          101.49395122519682,
          97.56438388838058,
          103.86265479886836,
          105.2081626601008,
          107.81547124863921,
          112.43987815330811,
          82.65324438576818,
          88.45137313284059,
          84.87231300599414,
          82.73558982765502,
          90.73174641048354,
          88.5362916373483,
          84.09392811220427,
          92.10037374056347,
          93.37028706600213,
          96.5889352233446,
          82.55508312592374,
          80.2172709033006,
          62.949590344278974,
          61.570878374270585,
          59.00583330800396,
          70.05513966309329,
          68.58114492910191,
          56.825236037869665,
          59.845855737098596,
          55.52937078461585,
          52.22605260327504,
          47.40058202017449,
          78.07575300820957,
          47.54797320148231,
          50.80285469315807,
          53.887780495885224,
          59.700202157097145,
          76.56739812046898,
          74.19009252613617,
          68.53363632601457,
          71.32875266304377,
          64.54670092114115,
          311.5328838229703,
          190.39562050602365,
          178.4605711773393,
          173.75509463290902,
          168.6149769886353,
          148.66736731281955,
          150.78858792090037,
          154.07472714768113,
          137.78643728250412,
          140.3069203074115,
          141.48833415853028,
          143.38343792606378,
          145.27847145559303,
          145.1579107239634,
          150.87391149542117,
          130.16593157539475,
          133.212982832495,
          126.553893658502,
          127.19373970582532,
          131.85136946942947,
          131.6128452576045,
          121.46324200220795,
          120.63492757804853,
          136.37965738425407,
          88.28082092696737,
          112.84088943631383,
          111.63994786651548,
          116.12016944152118,
          115.44734689123086,
          119.33076672350035,
          120.7630667793706,
          61.03197016142867
         ],
         "y": [
          83.439995,
          93.25647,
          88.348236,
          78.531761,
          -9.8164701,
          -12.270588,
          -12.270588,
          -12.270588,
          -9.8164701,
          -7.3623528,
          -9.8164701,
          -9.8164701,
          -9.8164701,
          -9.8164701,
          14.724706,
          17.178823,
          17.178823,
          19.63294,
          14.724706,
          22.087059,
          22.087059,
          24.541176,
          26.995293,
          0,
          4.9082351,
          4.9082351,
          4.9082351,
          9.8164701,
          7.3623528,
          2.4541175,
          9.8164701,
          12.270588,
          12.270588,
          2.4541175,
          2.4541175,
          -9.8164701,
          -4.9082351,
          -7.3623528,
          -4.9082351,
          -4.9082351,
          -9.8164701,
          -9.8164701,
          -9.8164701,
          -9.8164701,
          -9.8164701,
          0,
          -12.270588,
          -12.270588,
          -12.270588,
          -12.270588,
          -2.4541175,
          -2.4541175,
          -7.3623528,
          -2.4541175,
          -7.3623528,
          206.14587,
          206.14587,
          107.98117,
          103.07294,
          98.164703,
          73.623528,
          76.077644,
          78.531761,
          58.898823,
          61.35294,
          63.807056,
          66.261177,
          68.715294,
          68.715294,
          73.623528,
          51.536469,
          53.990585,
          44.174118,
          46.628235,
          49.082352,
          51.536469,
          39.265881,
          39.265881,
          56.444706,
          7.3623528,
          29.449411,
          29.449411,
          31.903528,
          31.903528,
          34.357647,
          36.811764,
          -7.3623528
         ],
         "z": [
          -131.77034,
          -131.77034,
          -131.77034,
          -129.64502,
          -40.381233,
          -36.130577,
          -31.879923,
          -27.629267,
          -19.127953,
          -19.127953,
          -23.378611,
          -27.629267,
          -31.879923,
          -36.130577,
          -108.39174,
          -108.39174,
          -104.14108,
          -108.39174,
          -104.14108,
          -112.6424,
          -108.39174,
          -112.6424,
          -116.89305,
          -87.138458,
          -95.639771,
          -91.389114,
          -87.138458,
          -95.639771,
          -95.639771,
          -91.389114,
          -99.890427,
          -99.890427,
          -104.14108,
          -87.138458,
          -82.887802,
          -65.88517,
          -61.634518,
          -57.383862,
          -74.386482,
          -70.135826,
          -57.383862,
          -61.634518,
          -53.133205,
          -48.882549,
          -44.631893,
          -82.887802,
          -44.631893,
          -48.882549,
          -53.133205,
          -57.383862,
          -82.887802,
          -78.637138,
          -70.135826,
          -74.386482,
          -65.88517,
          -63.759846,
          -63.759846,
          -131.77034,
          -131.77034,
          -131.77034,
          -129.64502,
          -133.89568,
          -133.89568,
          -129.64502,
          -129.64502,
          -129.64502,
          -129.64502,
          -133.89568,
          -129.64502,
          -133.89568,
          -129.64502,
          -129.64502,
          -125.39436,
          -125.39436,
          -125.39436,
          -125.39436,
          -125.39436,
          -121.14371,
          -129.64502,
          -91.389114,
          -116.89305,
          -112.6424,
          -116.89305,
          -121.14371,
          -121.14371,
          -121.14371,
          -61.634518
         ]
        }
       ],
       "layout": {
        "height": 1000,
        "scene": {
         "aspectratio": {
          "x": 3.3,
          "y": 1,
          "z": 1
         },
         "xaxis": {
          "title": {
           "text": "Z (arb)"
          }
         },
         "yaxis": {
          "title": {
           "text": "X (arb)"
          }
         },
         "zaxis": {
          "title": {
           "text": "Y (arb)"
          }
         }
        },
        "template": {
         "data": {
          "bar": [
           {
            "error_x": {
             "color": "#2a3f5f"
            },
            "error_y": {
             "color": "#2a3f5f"
            },
            "marker": {
             "line": {
              "color": "#E5ECF6",
              "width": 0.5
             },
             "pattern": {
              "fillmode": "overlay",
              "size": 10,
              "solidity": 0.2
             }
            },
            "type": "bar"
           }
          ],
          "barpolar": [
           {
            "marker": {
             "line": {
              "color": "#E5ECF6",
              "width": 0.5
             },
             "pattern": {
              "fillmode": "overlay",
              "size": 10,
              "solidity": 0.2
             }
            },
            "type": "barpolar"
           }
          ],
          "carpet": [
           {
            "aaxis": {
             "endlinecolor": "#2a3f5f",
             "gridcolor": "white",
             "linecolor": "white",
             "minorgridcolor": "white",
             "startlinecolor": "#2a3f5f"
            },
            "baxis": {
             "endlinecolor": "#2a3f5f",
             "gridcolor": "white",
             "linecolor": "white",
             "minorgridcolor": "white",
             "startlinecolor": "#2a3f5f"
            },
            "type": "carpet"
           }
          ],
          "choropleth": [
           {
            "colorbar": {
             "outlinewidth": 0,
             "ticks": ""
            },
            "type": "choropleth"
           }
          ],
          "contour": [
           {
            "colorbar": {
             "outlinewidth": 0,
             "ticks": ""
            },
            "colorscale": [
             [
              0,
              "#0d0887"
             ],
             [
              0.1111111111111111,
              "#46039f"
             ],
             [
              0.2222222222222222,
              "#7201a8"
             ],
             [
              0.3333333333333333,
              "#9c179e"
             ],
             [
              0.4444444444444444,
              "#bd3786"
             ],
             [
              0.5555555555555556,
              "#d8576b"
             ],
             [
              0.6666666666666666,
              "#ed7953"
             ],
             [
              0.7777777777777778,
              "#fb9f3a"
             ],
             [
              0.8888888888888888,
              "#fdca26"
             ],
             [
              1,
              "#f0f921"
             ]
            ],
            "type": "contour"
           }
          ],
          "contourcarpet": [
           {
            "colorbar": {
             "outlinewidth": 0,
             "ticks": ""
            },
            "type": "contourcarpet"
           }
          ],
          "heatmap": [
           {
            "colorbar": {
             "outlinewidth": 0,
             "ticks": ""
            },
            "colorscale": [
             [
              0,
              "#0d0887"
             ],
             [
              0.1111111111111111,
              "#46039f"
             ],
             [
              0.2222222222222222,
              "#7201a8"
             ],
             [
              0.3333333333333333,
              "#9c179e"
             ],
             [
              0.4444444444444444,
              "#bd3786"
             ],
             [
              0.5555555555555556,
              "#d8576b"
             ],
             [
              0.6666666666666666,
              "#ed7953"
             ],
             [
              0.7777777777777778,
              "#fb9f3a"
             ],
             [
              0.8888888888888888,
              "#fdca26"
             ],
             [
              1,
              "#f0f921"
             ]
            ],
            "type": "heatmap"
           }
          ],
          "heatmapgl": [
           {
            "colorbar": {
             "outlinewidth": 0,
             "ticks": ""
            },
            "colorscale": [
             [
              0,
              "#0d0887"
             ],
             [
              0.1111111111111111,
              "#46039f"
             ],
             [
              0.2222222222222222,
              "#7201a8"
             ],
             [
              0.3333333333333333,
              "#9c179e"
             ],
             [
              0.4444444444444444,
              "#bd3786"
             ],
             [
              0.5555555555555556,
              "#d8576b"
             ],
             [
              0.6666666666666666,
              "#ed7953"
             ],
             [
              0.7777777777777778,
              "#fb9f3a"
             ],
             [
              0.8888888888888888,
              "#fdca26"
             ],
             [
              1,
              "#f0f921"
             ]
            ],
            "type": "heatmapgl"
           }
          ],
          "histogram": [
           {
            "marker": {
             "pattern": {
              "fillmode": "overlay",
              "size": 10,
              "solidity": 0.2
             }
            },
            "type": "histogram"
           }
          ],
          "histogram2d": [
           {
            "colorbar": {
             "outlinewidth": 0,
             "ticks": ""
            },
            "colorscale": [
             [
              0,
              "#0d0887"
             ],
             [
              0.1111111111111111,
              "#46039f"
             ],
             [
              0.2222222222222222,
              "#7201a8"
             ],
             [
              0.3333333333333333,
              "#9c179e"
             ],
             [
              0.4444444444444444,
              "#bd3786"
             ],
             [
              0.5555555555555556,
              "#d8576b"
             ],
             [
              0.6666666666666666,
              "#ed7953"
             ],
             [
              0.7777777777777778,
              "#fb9f3a"
             ],
             [
              0.8888888888888888,
              "#fdca26"
             ],
             [
              1,
              "#f0f921"
             ]
            ],
            "type": "histogram2d"
           }
          ],
          "histogram2dcontour": [
           {
            "colorbar": {
             "outlinewidth": 0,
             "ticks": ""
            },
            "colorscale": [
             [
              0,
              "#0d0887"
             ],
             [
              0.1111111111111111,
              "#46039f"
             ],
             [
              0.2222222222222222,
              "#7201a8"
             ],
             [
              0.3333333333333333,
              "#9c179e"
             ],
             [
              0.4444444444444444,
              "#bd3786"
             ],
             [
              0.5555555555555556,
              "#d8576b"
             ],
             [
              0.6666666666666666,
              "#ed7953"
             ],
             [
              0.7777777777777778,
              "#fb9f3a"
             ],
             [
              0.8888888888888888,
              "#fdca26"
             ],
             [
              1,
              "#f0f921"
             ]
            ],
            "type": "histogram2dcontour"
           }
          ],
          "mesh3d": [
           {
            "colorbar": {
             "outlinewidth": 0,
             "ticks": ""
            },
            "type": "mesh3d"
           }
          ],
          "parcoords": [
           {
            "line": {
             "colorbar": {
              "outlinewidth": 0,
              "ticks": ""
             }
            },
            "type": "parcoords"
           }
          ],
          "pie": [
           {
            "automargin": true,
            "type": "pie"
           }
          ],
          "scatter": [
           {
            "fillpattern": {
             "fillmode": "overlay",
             "size": 10,
             "solidity": 0.2
            },
            "type": "scatter"
           }
          ],
          "scatter3d": [
           {
            "line": {
             "colorbar": {
              "outlinewidth": 0,
              "ticks": ""
             }
            },
            "marker": {
             "colorbar": {
              "outlinewidth": 0,
              "ticks": ""
             }
            },
            "type": "scatter3d"
           }
          ],
          "scattercarpet": [
           {
            "marker": {
             "colorbar": {
              "outlinewidth": 0,
              "ticks": ""
             }
            },
            "type": "scattercarpet"
           }
          ],
          "scattergeo": [
           {
            "marker": {
             "colorbar": {
              "outlinewidth": 0,
              "ticks": ""
             }
            },
            "type": "scattergeo"
           }
          ],
          "scattergl": [
           {
            "marker": {
             "colorbar": {
              "outlinewidth": 0,
              "ticks": ""
             }
            },
            "type": "scattergl"
           }
          ],
          "scattermapbox": [
           {
            "marker": {
             "colorbar": {
              "outlinewidth": 0,
              "ticks": ""
             }
            },
            "type": "scattermapbox"
           }
          ],
          "scatterpolar": [
           {
            "marker": {
             "colorbar": {
              "outlinewidth": 0,
              "ticks": ""
             }
            },
            "type": "scatterpolar"
           }
          ],
          "scatterpolargl": [
           {
            "marker": {
             "colorbar": {
              "outlinewidth": 0,
              "ticks": ""
             }
            },
            "type": "scatterpolargl"
           }
          ],
          "scatterternary": [
           {
            "marker": {
             "colorbar": {
              "outlinewidth": 0,
              "ticks": ""
             }
            },
            "type": "scatterternary"
           }
          ],
          "surface": [
           {
            "colorbar": {
             "outlinewidth": 0,
             "ticks": ""
            },
            "colorscale": [
             [
              0,
              "#0d0887"
             ],
             [
              0.1111111111111111,
              "#46039f"
             ],
             [
              0.2222222222222222,
              "#7201a8"
             ],
             [
              0.3333333333333333,
              "#9c179e"
             ],
             [
              0.4444444444444444,
              "#bd3786"
             ],
             [
              0.5555555555555556,
              "#d8576b"
             ],
             [
              0.6666666666666666,
              "#ed7953"
             ],
             [
              0.7777777777777778,
              "#fb9f3a"
             ],
             [
              0.8888888888888888,
              "#fdca26"
             ],
             [
              1,
              "#f0f921"
             ]
            ],
            "type": "surface"
           }
          ],
          "table": [
           {
            "cells": {
             "fill": {
              "color": "#EBF0F8"
             },
             "line": {
              "color": "white"
             }
            },
            "header": {
             "fill": {
              "color": "#C8D4E3"
             },
             "line": {
              "color": "white"
             }
            },
            "type": "table"
           }
          ]
         },
         "layout": {
          "annotationdefaults": {
           "arrowcolor": "#2a3f5f",
           "arrowhead": 0,
           "arrowwidth": 1
          },
          "autotypenumbers": "strict",
          "coloraxis": {
           "colorbar": {
            "outlinewidth": 0,
            "ticks": ""
           }
          },
          "colorscale": {
           "diverging": [
            [
             0,
             "#8e0152"
            ],
            [
             0.1,
             "#c51b7d"
            ],
            [
             0.2,
             "#de77ae"
            ],
            [
             0.3,
             "#f1b6da"
            ],
            [
             0.4,
             "#fde0ef"
            ],
            [
             0.5,
             "#f7f7f7"
            ],
            [
             0.6,
             "#e6f5d0"
            ],
            [
             0.7,
             "#b8e186"
            ],
            [
             0.8,
             "#7fbc41"
            ],
            [
             0.9,
             "#4d9221"
            ],
            [
             1,
             "#276419"
            ]
           ],
           "sequential": [
            [
             0,
             "#0d0887"
            ],
            [
             0.1111111111111111,
             "#46039f"
            ],
            [
             0.2222222222222222,
             "#7201a8"
            ],
            [
             0.3333333333333333,
             "#9c179e"
            ],
            [
             0.4444444444444444,
             "#bd3786"
            ],
            [
             0.5555555555555556,
             "#d8576b"
            ],
            [
             0.6666666666666666,
             "#ed7953"
            ],
            [
             0.7777777777777778,
             "#fb9f3a"
            ],
            [
             0.8888888888888888,
             "#fdca26"
            ],
            [
             1,
             "#f0f921"
            ]
           ],
           "sequentialminus": [
            [
             0,
             "#0d0887"
            ],
            [
             0.1111111111111111,
             "#46039f"
            ],
            [
             0.2222222222222222,
             "#7201a8"
            ],
            [
             0.3333333333333333,
             "#9c179e"
            ],
            [
             0.4444444444444444,
             "#bd3786"
            ],
            [
             0.5555555555555556,
             "#d8576b"
            ],
            [
             0.6666666666666666,
             "#ed7953"
            ],
            [
             0.7777777777777778,
             "#fb9f3a"
            ],
            [
             0.8888888888888888,
             "#fdca26"
            ],
            [
             1,
             "#f0f921"
            ]
           ]
          },
          "colorway": [
           "#636efa",
           "#EF553B",
           "#00cc96",
           "#ab63fa",
           "#FFA15A",
           "#19d3f3",
           "#FF6692",
           "#B6E880",
           "#FF97FF",
           "#FECB52"
          ],
          "font": {
           "color": "#2a3f5f"
          },
          "geo": {
           "bgcolor": "white",
           "lakecolor": "white",
           "landcolor": "#E5ECF6",
           "showlakes": true,
           "showland": true,
           "subunitcolor": "white"
          },
          "hoverlabel": {
           "align": "left"
          },
          "hovermode": "closest",
          "mapbox": {
           "style": "light"
          },
          "paper_bgcolor": "white",
          "plot_bgcolor": "#E5ECF6",
          "polar": {
           "angularaxis": {
            "gridcolor": "white",
            "linecolor": "white",
            "ticks": ""
           },
           "bgcolor": "#E5ECF6",
           "radialaxis": {
            "gridcolor": "white",
            "linecolor": "white",
            "ticks": ""
           }
          },
          "scene": {
           "xaxis": {
            "backgroundcolor": "#E5ECF6",
            "gridcolor": "white",
            "gridwidth": 2,
            "linecolor": "white",
            "showbackground": true,
            "ticks": "",
            "zerolinecolor": "white"
           },
           "yaxis": {
            "backgroundcolor": "#E5ECF6",
            "gridcolor": "white",
            "gridwidth": 2,
            "linecolor": "white",
            "showbackground": true,
            "ticks": "",
            "zerolinecolor": "white"
           },
           "zaxis": {
            "backgroundcolor": "#E5ECF6",
            "gridcolor": "white",
            "gridwidth": 2,
            "linecolor": "white",
            "showbackground": true,
            "ticks": "",
            "zerolinecolor": "white"
           }
          },
          "shapedefaults": {
           "line": {
            "color": "#2a3f5f"
           }
          },
          "ternary": {
           "aaxis": {
            "gridcolor": "white",
            "linecolor": "white",
            "ticks": ""
           },
           "baxis": {
            "gridcolor": "white",
            "linecolor": "white",
            "ticks": ""
           },
           "bgcolor": "#E5ECF6",
           "caxis": {
            "gridcolor": "white",
            "linecolor": "white",
            "ticks": ""
           }
          },
          "title": {
           "x": 0.05
          },
          "xaxis": {
           "automargin": true,
           "gridcolor": "white",
           "linecolor": "white",
           "ticks": "",
           "title": {
            "standoff": 15
           },
           "zerolinecolor": "white",
           "zerolinewidth": 2
          },
          "yaxis": {
           "automargin": true,
           "gridcolor": "white",
           "linecolor": "white",
           "ticks": "",
           "title": {
            "standoff": 15
           },
           "zerolinecolor": "white",
           "zerolinewidth": 2
          }
         }
        },
        "width": 1300
       }
      }
     },
     "metadata": {},
     "output_type": "display_data"
    }
   ],
   "source": [
    "fig = go.Figure()\n",
    "for cluster in clusters:\n",
    "    fig.add_trace(\n",
    "        go.Scatter3d(\n",
    "            x=cluster.clustered_data[:, 2], \n",
    "            y=cluster.clustered_data[:, 0], \n",
    "            z=cluster.clustered_data[:, 1], \n",
    "            mode=\"markers\",\n",
    "            legendgroup=\"clusters\",\n",
    "            marker= {\n",
    "                \"size\": 3,\n",
    "                \"color\": get_color(cluster.label)\n",
    "            }, \n",
    "            name=f\"Cluster {cluster.label}\"\n",
    "        )\n",
    "    )\n",
    "fig.update_layout(\n",
    "    scene = {\n",
    "        \"xaxis_title\": \"Z (arb)\",\n",
    "        \"yaxis_title\": \"X (arb)\",\n",
    "        \"zaxis_title\": \"Y (arb)\",\n",
    "        \"aspectratio\": {\n",
    "            \"x\": 3.3,\n",
    "            \"y\": 1.0,\n",
    "            \"z\": 1.0\n",
    "        }\n",
    "    },\n",
    "    width=1300,\n",
    "    height=1000,\n",
    ")"
   ]
  },
  {
   "cell_type": "code",
   "execution_count": 183,
   "metadata": {},
   "outputs": [],
   "source": [
    "# Join broken cluster together\n",
    "joined_clusters = join_clusters(clusters, cluster_params)"
   ]
  },
  {
   "cell_type": "code",
   "execution_count": 191,
   "metadata": {},
   "outputs": [
    {
     "data": {
      "application/vnd.plotly.v1+json": {
       "config": {
        "plotlyServerURL": "https://plot.ly"
       },
       "data": [
        {
         "legendgroup": "clusters",
         "marker": {
          "color": "rgb(31, 119, 180)",
          "size": 3
         },
         "mode": "markers",
         "name": "Cluster 0",
         "scene": "scene",
         "type": "scatter3d",
         "x": [
          256.30149466207195,
          258.3446242945486,
          258.58365069148437,
          259.29882028310374,
          260.31432775711204,
          260.4258295792875,
          283.86250488498604,
          295.73063670513653,
          296.38801380558266,
          299.25927308947075,
          299.89191515003836
         ],
         "y": [
          -12.270588,
          -4.9082351,
          -12.270588,
          -7.3623528,
          -4.9082351,
          -12.270588,
          -7.3623528,
          -7.3623528,
          -9.8164701,
          -9.8164701,
          -12.270588
         ],
         "z": [
          82.887802,
          87.138458,
          87.138458,
          87.138458,
          40.381233,
          70.135826,
          19.127953,
          61.634518,
          23.378611,
          19.127953,
          27.629267
         ]
        },
        {
         "legendgroup": "clusters",
         "marker": {
          "color": "rgb(31, 119, 180)"
         },
         "mode": "markers",
         "name": "Cluster 0",
         "showlegend": false,
         "type": "scatter",
         "x": [
          269.6505353532031,
          272.6887356241657,
          273.14681509660534,
          273.64793677566576,
          263.4734976919582,
          269.98372938128716,
          284.6014836649672,
          302.1748294181192,
          297.4706326095599,
          300.0305887759327,
          301.4118519520771
         ],
         "xaxis": "x",
         "y": [
          1424,
          6425,
          3483,
          1673,
          5072,
          1398,
          25151,
          833,
          919,
          25752,
          765
         ],
         "yaxis": "y"
        },
        {
         "legendgroup": "clusters",
         "marker": {
          "color": "rgb(255, 127, 14)",
          "size": 3
         },
         "mode": "markers",
         "name": "Cluster 1",
         "scene": "scene",
         "type": "scatter3d",
         "x": [
          48.32283742383062,
          53.438183482185465,
          56.00422029797623,
          62.484021856123064,
          65.68171321422429,
          69.64084708146406,
          70.86380766866264,
          71.40893362656465,
          75.42865027531464,
          75.45056825907898,
          81.16538017153167,
          81.41776233130533,
          86.99118954307889,
          89.42817226588193,
          92.2735967395295,
          95.08453901475318,
          97.30348636621518,
          101.03738580137664,
          102.2263735566732,
          102.47578037174418,
          104.50679822162444,
          105.42958625731265,
          107.79039442513523,
          110.52517281017322,
          117.35211699660032,
          117.4334673443526,
          119.95743092995427,
          122.13827510795167,
          127.0378296680414,
          131.1085584254606,
          133.69135789076984,
          137.35834058784351,
          141.36144370877355,
          141.52952805782223,
          141.67053052680654,
          143.99645224692512,
          145.32930309245575,
          151.16578925850578,
          151.45783070691883,
          151.60323910504846,
          155.36257947000607,
          157.70611941877308,
          159.8806285376749,
          165.39201236874078,
          167.06230117873386,
          169.80499233226763,
          171.55862579954973,
          173.41335618079515,
          173.7910123719124,
          177.8470116418979,
          180.1509634590767,
          184.61553295999866,
          191.1642942919786,
          192.5340379337468,
          193.22070108957848,
          197.68381316991588,
          198.83590657794724,
          204.333504663528,
          206.56665681172694,
          206.78607325234694,
          207.9850034284383,
          216.70187270291441,
          217.79749949627626,
          222.88686913594995,
          225.36446105754197,
          225.7728929271053,
          228.10442265838185,
          233.52681058947616,
          235.9356802782605,
          240.25157586885533,
          242.27454479200392,
          245.51958548983526,
          248.5580663081565,
          248.7645059171114,
          254.5674097822253,
          258.1996368508568,
          258.3457388620226,
          263.8265875816458,
          264.47101749414554,
          270.23150953243106,
          275.8210550833828,
          282.24522469067614,
          288.72427566547145,
          297.5258469741593,
          305.58316982421115,
          326.0198981267528,
          533.4467188749492
         ],
         "y": [
          -7.3623528,
          -9.8164701,
          -9.8164701,
          -12.270588,
          -9.8164701,
          -12.270588,
          -9.8164701,
          -12.270588,
          -9.8164701,
          -9.8164701,
          -9.8164701,
          -12.270588,
          -12.270588,
          -9.8164701,
          -12.270588,
          -9.8164701,
          -9.8164701,
          -7.3623528,
          -12.270588,
          -9.8164701,
          -7.3623528,
          -4.9082351,
          -9.8164701,
          -7.3623528,
          -7.3623528,
          -4.9082351,
          -4.9082351,
          -2.4541175,
          -2.4541175,
          -2.4541175,
          0,
          2.4541175,
          2.4541175,
          0,
          4.9082351,
          2.4541175,
          4.9082351,
          7.3623528,
          4.9082351,
          7.3623528,
          9.8164701,
          9.8164701,
          12.270588,
          12.270588,
          14.724706,
          14.724706,
          17.178823,
          17.178823,
          19.63294,
          22.087059,
          22.087059,
          24.541176,
          29.449411,
          26.995293,
          29.449411,
          31.903528,
          31.903528,
          34.357647,
          39.265881,
          36.811764,
          39.265881,
          44.174118,
          46.628235,
          51.536469,
          51.536469,
          49.082352,
          53.990585,
          56.444706,
          58.898823,
          61.35294,
          63.807056,
          66.261177,
          68.715294,
          68.715294,
          73.623528,
          76.077644,
          73.623528,
          78.531761,
          78.531761,
          83.439995,
          88.348236,
          93.25647,
          98.164703,
          103.07294,
          107.98117,
          206.14587,
          206.14587
         ],
         "z": [
          -19.127953,
          -19.127953,
          -23.378611,
          -27.629267,
          -27.629267,
          -36.130577,
          -31.879923,
          -31.879923,
          -36.130577,
          -40.381233,
          -44.631893,
          -44.631893,
          -48.882549,
          -48.882549,
          -53.133205,
          -53.133205,
          -57.383862,
          -57.383862,
          -57.383862,
          -61.634518,
          -61.634518,
          -61.634518,
          -65.88517,
          -65.88517,
          -70.135826,
          -70.135826,
          -74.386482,
          -74.386482,
          -78.637138,
          -82.887802,
          -82.887802,
          -82.887802,
          -87.138458,
          -87.138458,
          -87.138458,
          -91.389114,
          -91.389114,
          -91.389114,
          -95.639771,
          -95.639771,
          -95.639771,
          -99.890427,
          -99.890427,
          -104.14108,
          -104.14108,
          -108.39174,
          -104.14108,
          -108.39174,
          -108.39174,
          -112.6424,
          -108.39174,
          -112.6424,
          -112.6424,
          -116.89305,
          -116.89305,
          -121.14371,
          -116.89305,
          -121.14371,
          -121.14371,
          -121.14371,
          -125.39436,
          -125.39436,
          -125.39436,
          -129.64502,
          -125.39436,
          -125.39436,
          -129.64502,
          -129.64502,
          -129.64502,
          -129.64502,
          -129.64502,
          -129.64502,
          -129.64502,
          -133.89568,
          -129.64502,
          -133.89568,
          -133.89568,
          -133.89568,
          -129.64502,
          -131.77034,
          -131.77034,
          -131.77034,
          -131.77034,
          -131.77034,
          -131.77034,
          -63.759846,
          -63.759846
         ]
        },
        {
         "legendgroup": "clusters",
         "marker": {
          "color": "rgb(255, 127, 14)"
         },
         "mode": "markers",
         "name": "Cluster 1",
         "showlegend": false,
         "type": "scatter",
         "x": [
          52.48980321368944,
          57.60105142330409,
          61.47678609603602,
          69.41323153505748,
          71.92931899397553,
          79.40927846569653,
          78.32223064374082,
          79.15890740804087,
          84.20963698967503,
          86.13823375506615,
          93.14605679456811,
          93.65588729848281,
          100.53625209208379,
          102.38781507961701,
          107.18265465403941,
          109.36439145555713,
          113.38976656770866,
          116.42879878433402,
          117.87156738776862,
          119.9852593326133,
          121.55117820234946,
          122.2223475444541,
          126.71222451476147,
          128.88317845785468,
          136.9114958322993,
          136.87126839850748,
          141.23464416157938,
          143.0284225019133,
          149.4270133955074,
          155.13176497899266,
          157.3015158702201,
          160.44850931729167,
          166.07887078960505,
          166.2038452469968,
          166.39633666088164,
          170.56661780697237,
          171.74593813782244,
          176.7972574408428,
          179.19411555956572,
          179.40098144332043,
          182.70429656067364,
          186.93763824761146,
          188.9192423172136,
          195.8327082711513,
          197.41325686358255,
          201.98841968780167,
          201.42700561111874,
          205.22200993504632,
          205.76087483903592,
          211.6735883453173,
          211.40240564083152,
          217.65448446408664,
          223.8288754789183,
          226.8525660986267,
          227.7399663565832,
          234.03530409066298,
          232.84659753112874,
          240.01755666621708,
          242.6672445750436,
          242.4693476142516,
          246.01487065143695,
          254.23375042239698,
          255.60455513518394,
          262.94941582177825,
          262.9997974610511,
          262.88062305604734,
          267.87019639324626,
          272.9992807871843,
          275.5767548069889,
          279.8085669969959,
          282.09240801616806,
          285.443937836007,
          288.6359907689212,
          290.7466666298229,
          295.01325598894465,
          300.6375118130927,
          300.15162465992677,
          306.1041635185633,
          304.827800226538,
          312.0107754765723,
          318.191903943733,
          325.1500554532734,
          332.2069216276882,
          341.3342688357705,
          349.86344372926015,
          390.9608825120218,
          575.4362167594683
         ],
         "xaxis": "x",
         "y": [
          423,
          371,
          537,
          523,
          1112,
          551,
          1682,
          759,
          456,
          519,
          681,
          618,
          913,
          1060,
          445,
          1262,
          2265,
          906,
          451,
          1200,
          1235,
          397,
          770,
          880,
          916,
          1252,
          1101,
          956,
          2184,
          614,
          1053,
          750,
          1372,
          771,
          670,
          398,
          1461,
          737,
          661,
          1934,
          901,
          1833,
          2484,
          1615,
          2026,
          946,
          841,
          710,
          830,
          838,
          923,
          676,
          953,
          754,
          3949,
          468,
          1213,
          871,
          1435,
          1922,
          493,
          1630,
          2257,
          1346,
          1641,
          983,
          614,
          2279,
          1684,
          1935,
          3501,
          1030,
          1742,
          581,
          1301,
          527,
          2444,
          1787,
          476,
          2123,
          2779,
          2409,
          3242,
          1628,
          7438,
          64,
          0
         ],
         "yaxis": "y"
        }
       ],
       "layout": {
        "height": 1000,
        "scene": {
         "aspectratio": {
          "x": 3.3,
          "y": 1,
          "z": 1
         },
         "domain": {
          "x": [
           0,
           1
          ],
          "y": [
           0.49,
           1
          ]
         },
         "xaxis": {
          "range": [
           0,
           1000
          ],
          "title": {
           "text": "Z (mm)"
          }
         },
         "yaxis": {
          "range": [
           -300,
           300
          ],
          "title": {
           "text": "X (mm)"
          }
         },
         "zaxis": {
          "range": [
           -300,
           300
          ],
          "title": {
           "text": "Y (mm)"
          }
         }
        },
        "template": {
         "data": {
          "bar": [
           {
            "error_x": {
             "color": "#2a3f5f"
            },
            "error_y": {
             "color": "#2a3f5f"
            },
            "marker": {
             "line": {
              "color": "#E5ECF6",
              "width": 0.5
             },
             "pattern": {
              "fillmode": "overlay",
              "size": 10,
              "solidity": 0.2
             }
            },
            "type": "bar"
           }
          ],
          "barpolar": [
           {
            "marker": {
             "line": {
              "color": "#E5ECF6",
              "width": 0.5
             },
             "pattern": {
              "fillmode": "overlay",
              "size": 10,
              "solidity": 0.2
             }
            },
            "type": "barpolar"
           }
          ],
          "carpet": [
           {
            "aaxis": {
             "endlinecolor": "#2a3f5f",
             "gridcolor": "white",
             "linecolor": "white",
             "minorgridcolor": "white",
             "startlinecolor": "#2a3f5f"
            },
            "baxis": {
             "endlinecolor": "#2a3f5f",
             "gridcolor": "white",
             "linecolor": "white",
             "minorgridcolor": "white",
             "startlinecolor": "#2a3f5f"
            },
            "type": "carpet"
           }
          ],
          "choropleth": [
           {
            "colorbar": {
             "outlinewidth": 0,
             "ticks": ""
            },
            "type": "choropleth"
           }
          ],
          "contour": [
           {
            "colorbar": {
             "outlinewidth": 0,
             "ticks": ""
            },
            "colorscale": [
             [
              0,
              "#0d0887"
             ],
             [
              0.1111111111111111,
              "#46039f"
             ],
             [
              0.2222222222222222,
              "#7201a8"
             ],
             [
              0.3333333333333333,
              "#9c179e"
             ],
             [
              0.4444444444444444,
              "#bd3786"
             ],
             [
              0.5555555555555556,
              "#d8576b"
             ],
             [
              0.6666666666666666,
              "#ed7953"
             ],
             [
              0.7777777777777778,
              "#fb9f3a"
             ],
             [
              0.8888888888888888,
              "#fdca26"
             ],
             [
              1,
              "#f0f921"
             ]
            ],
            "type": "contour"
           }
          ],
          "contourcarpet": [
           {
            "colorbar": {
             "outlinewidth": 0,
             "ticks": ""
            },
            "type": "contourcarpet"
           }
          ],
          "heatmap": [
           {
            "colorbar": {
             "outlinewidth": 0,
             "ticks": ""
            },
            "colorscale": [
             [
              0,
              "#0d0887"
             ],
             [
              0.1111111111111111,
              "#46039f"
             ],
             [
              0.2222222222222222,
              "#7201a8"
             ],
             [
              0.3333333333333333,
              "#9c179e"
             ],
             [
              0.4444444444444444,
              "#bd3786"
             ],
             [
              0.5555555555555556,
              "#d8576b"
             ],
             [
              0.6666666666666666,
              "#ed7953"
             ],
             [
              0.7777777777777778,
              "#fb9f3a"
             ],
             [
              0.8888888888888888,
              "#fdca26"
             ],
             [
              1,
              "#f0f921"
             ]
            ],
            "type": "heatmap"
           }
          ],
          "heatmapgl": [
           {
            "colorbar": {
             "outlinewidth": 0,
             "ticks": ""
            },
            "colorscale": [
             [
              0,
              "#0d0887"
             ],
             [
              0.1111111111111111,
              "#46039f"
             ],
             [
              0.2222222222222222,
              "#7201a8"
             ],
             [
              0.3333333333333333,
              "#9c179e"
             ],
             [
              0.4444444444444444,
              "#bd3786"
             ],
             [
              0.5555555555555556,
              "#d8576b"
             ],
             [
              0.6666666666666666,
              "#ed7953"
             ],
             [
              0.7777777777777778,
              "#fb9f3a"
             ],
             [
              0.8888888888888888,
              "#fdca26"
             ],
             [
              1,
              "#f0f921"
             ]
            ],
            "type": "heatmapgl"
           }
          ],
          "histogram": [
           {
            "marker": {
             "pattern": {
              "fillmode": "overlay",
              "size": 10,
              "solidity": 0.2
             }
            },
            "type": "histogram"
           }
          ],
          "histogram2d": [
           {
            "colorbar": {
             "outlinewidth": 0,
             "ticks": ""
            },
            "colorscale": [
             [
              0,
              "#0d0887"
             ],
             [
              0.1111111111111111,
              "#46039f"
             ],
             [
              0.2222222222222222,
              "#7201a8"
             ],
             [
              0.3333333333333333,
              "#9c179e"
             ],
             [
              0.4444444444444444,
              "#bd3786"
             ],
             [
              0.5555555555555556,
              "#d8576b"
             ],
             [
              0.6666666666666666,
              "#ed7953"
             ],
             [
              0.7777777777777778,
              "#fb9f3a"
             ],
             [
              0.8888888888888888,
              "#fdca26"
             ],
             [
              1,
              "#f0f921"
             ]
            ],
            "type": "histogram2d"
           }
          ],
          "histogram2dcontour": [
           {
            "colorbar": {
             "outlinewidth": 0,
             "ticks": ""
            },
            "colorscale": [
             [
              0,
              "#0d0887"
             ],
             [
              0.1111111111111111,
              "#46039f"
             ],
             [
              0.2222222222222222,
              "#7201a8"
             ],
             [
              0.3333333333333333,
              "#9c179e"
             ],
             [
              0.4444444444444444,
              "#bd3786"
             ],
             [
              0.5555555555555556,
              "#d8576b"
             ],
             [
              0.6666666666666666,
              "#ed7953"
             ],
             [
              0.7777777777777778,
              "#fb9f3a"
             ],
             [
              0.8888888888888888,
              "#fdca26"
             ],
             [
              1,
              "#f0f921"
             ]
            ],
            "type": "histogram2dcontour"
           }
          ],
          "mesh3d": [
           {
            "colorbar": {
             "outlinewidth": 0,
             "ticks": ""
            },
            "type": "mesh3d"
           }
          ],
          "parcoords": [
           {
            "line": {
             "colorbar": {
              "outlinewidth": 0,
              "ticks": ""
             }
            },
            "type": "parcoords"
           }
          ],
          "pie": [
           {
            "automargin": true,
            "type": "pie"
           }
          ],
          "scatter": [
           {
            "fillpattern": {
             "fillmode": "overlay",
             "size": 10,
             "solidity": 0.2
            },
            "type": "scatter"
           }
          ],
          "scatter3d": [
           {
            "line": {
             "colorbar": {
              "outlinewidth": 0,
              "ticks": ""
             }
            },
            "marker": {
             "colorbar": {
              "outlinewidth": 0,
              "ticks": ""
             }
            },
            "type": "scatter3d"
           }
          ],
          "scattercarpet": [
           {
            "marker": {
             "colorbar": {
              "outlinewidth": 0,
              "ticks": ""
             }
            },
            "type": "scattercarpet"
           }
          ],
          "scattergeo": [
           {
            "marker": {
             "colorbar": {
              "outlinewidth": 0,
              "ticks": ""
             }
            },
            "type": "scattergeo"
           }
          ],
          "scattergl": [
           {
            "marker": {
             "colorbar": {
              "outlinewidth": 0,
              "ticks": ""
             }
            },
            "type": "scattergl"
           }
          ],
          "scattermapbox": [
           {
            "marker": {
             "colorbar": {
              "outlinewidth": 0,
              "ticks": ""
             }
            },
            "type": "scattermapbox"
           }
          ],
          "scatterpolar": [
           {
            "marker": {
             "colorbar": {
              "outlinewidth": 0,
              "ticks": ""
             }
            },
            "type": "scatterpolar"
           }
          ],
          "scatterpolargl": [
           {
            "marker": {
             "colorbar": {
              "outlinewidth": 0,
              "ticks": ""
             }
            },
            "type": "scatterpolargl"
           }
          ],
          "scatterternary": [
           {
            "marker": {
             "colorbar": {
              "outlinewidth": 0,
              "ticks": ""
             }
            },
            "type": "scatterternary"
           }
          ],
          "surface": [
           {
            "colorbar": {
             "outlinewidth": 0,
             "ticks": ""
            },
            "colorscale": [
             [
              0,
              "#0d0887"
             ],
             [
              0.1111111111111111,
              "#46039f"
             ],
             [
              0.2222222222222222,
              "#7201a8"
             ],
             [
              0.3333333333333333,
              "#9c179e"
             ],
             [
              0.4444444444444444,
              "#bd3786"
             ],
             [
              0.5555555555555556,
              "#d8576b"
             ],
             [
              0.6666666666666666,
              "#ed7953"
             ],
             [
              0.7777777777777778,
              "#fb9f3a"
             ],
             [
              0.8888888888888888,
              "#fdca26"
             ],
             [
              1,
              "#f0f921"
             ]
            ],
            "type": "surface"
           }
          ],
          "table": [
           {
            "cells": {
             "fill": {
              "color": "#EBF0F8"
             },
             "line": {
              "color": "white"
             }
            },
            "header": {
             "fill": {
              "color": "#C8D4E3"
             },
             "line": {
              "color": "white"
             }
            },
            "type": "table"
           }
          ]
         },
         "layout": {
          "annotationdefaults": {
           "arrowcolor": "#2a3f5f",
           "arrowhead": 0,
           "arrowwidth": 1
          },
          "autotypenumbers": "strict",
          "coloraxis": {
           "colorbar": {
            "outlinewidth": 0,
            "ticks": ""
           }
          },
          "colorscale": {
           "diverging": [
            [
             0,
             "#8e0152"
            ],
            [
             0.1,
             "#c51b7d"
            ],
            [
             0.2,
             "#de77ae"
            ],
            [
             0.3,
             "#f1b6da"
            ],
            [
             0.4,
             "#fde0ef"
            ],
            [
             0.5,
             "#f7f7f7"
            ],
            [
             0.6,
             "#e6f5d0"
            ],
            [
             0.7,
             "#b8e186"
            ],
            [
             0.8,
             "#7fbc41"
            ],
            [
             0.9,
             "#4d9221"
            ],
            [
             1,
             "#276419"
            ]
           ],
           "sequential": [
            [
             0,
             "#0d0887"
            ],
            [
             0.1111111111111111,
             "#46039f"
            ],
            [
             0.2222222222222222,
             "#7201a8"
            ],
            [
             0.3333333333333333,
             "#9c179e"
            ],
            [
             0.4444444444444444,
             "#bd3786"
            ],
            [
             0.5555555555555556,
             "#d8576b"
            ],
            [
             0.6666666666666666,
             "#ed7953"
            ],
            [
             0.7777777777777778,
             "#fb9f3a"
            ],
            [
             0.8888888888888888,
             "#fdca26"
            ],
            [
             1,
             "#f0f921"
            ]
           ],
           "sequentialminus": [
            [
             0,
             "#0d0887"
            ],
            [
             0.1111111111111111,
             "#46039f"
            ],
            [
             0.2222222222222222,
             "#7201a8"
            ],
            [
             0.3333333333333333,
             "#9c179e"
            ],
            [
             0.4444444444444444,
             "#bd3786"
            ],
            [
             0.5555555555555556,
             "#d8576b"
            ],
            [
             0.6666666666666666,
             "#ed7953"
            ],
            [
             0.7777777777777778,
             "#fb9f3a"
            ],
            [
             0.8888888888888888,
             "#fdca26"
            ],
            [
             1,
             "#f0f921"
            ]
           ]
          },
          "colorway": [
           "#636efa",
           "#EF553B",
           "#00cc96",
           "#ab63fa",
           "#FFA15A",
           "#19d3f3",
           "#FF6692",
           "#B6E880",
           "#FF97FF",
           "#FECB52"
          ],
          "font": {
           "color": "#2a3f5f"
          },
          "geo": {
           "bgcolor": "white",
           "lakecolor": "white",
           "landcolor": "#E5ECF6",
           "showlakes": true,
           "showland": true,
           "subunitcolor": "white"
          },
          "hoverlabel": {
           "align": "left"
          },
          "hovermode": "closest",
          "mapbox": {
           "style": "light"
          },
          "paper_bgcolor": "white",
          "plot_bgcolor": "#E5ECF6",
          "polar": {
           "angularaxis": {
            "gridcolor": "white",
            "linecolor": "white",
            "ticks": ""
           },
           "bgcolor": "#E5ECF6",
           "radialaxis": {
            "gridcolor": "white",
            "linecolor": "white",
            "ticks": ""
           }
          },
          "scene": {
           "xaxis": {
            "backgroundcolor": "#E5ECF6",
            "gridcolor": "white",
            "gridwidth": 2,
            "linecolor": "white",
            "showbackground": true,
            "ticks": "",
            "zerolinecolor": "white"
           },
           "yaxis": {
            "backgroundcolor": "#E5ECF6",
            "gridcolor": "white",
            "gridwidth": 2,
            "linecolor": "white",
            "showbackground": true,
            "ticks": "",
            "zerolinecolor": "white"
           },
           "zaxis": {
            "backgroundcolor": "#E5ECF6",
            "gridcolor": "white",
            "gridwidth": 2,
            "linecolor": "white",
            "showbackground": true,
            "ticks": "",
            "zerolinecolor": "white"
           }
          },
          "shapedefaults": {
           "line": {
            "color": "#2a3f5f"
           }
          },
          "ternary": {
           "aaxis": {
            "gridcolor": "white",
            "linecolor": "white",
            "ticks": ""
           },
           "baxis": {
            "gridcolor": "white",
            "linecolor": "white",
            "ticks": ""
           },
           "bgcolor": "#E5ECF6",
           "caxis": {
            "gridcolor": "white",
            "linecolor": "white",
            "ticks": ""
           }
          },
          "title": {
           "x": 0.05
          },
          "xaxis": {
           "automargin": true,
           "gridcolor": "white",
           "linecolor": "white",
           "ticks": "",
           "title": {
            "standoff": 15
           },
           "zerolinecolor": "white",
           "zerolinewidth": 2
          },
          "yaxis": {
           "automargin": true,
           "gridcolor": "white",
           "linecolor": "white",
           "ticks": "",
           "title": {
            "standoff": 15
           },
           "zerolinecolor": "white",
           "zerolinewidth": 2
          }
         }
        },
        "width": 1300,
        "xaxis": {
         "anchor": "y",
         "domain": [
          0,
          1
         ],
         "title": {
          "text": "Distance (mm)"
         }
        },
        "yaxis": {
         "anchor": "x",
         "domain": [
          0,
          0.34
         ],
         "title": {
          "text": "Integrated Charge"
         }
        }
       }
      }
     },
     "metadata": {},
     "output_type": "display_data"
    }
   ],
   "source": [
    "# Plot clusters after joining\n",
    "fig = make_subplots(2,1,specs=[[{\"type\": \"scene\"}],[{\"type\": \"xy\"}]],row_heights=[0.6,0.4])\n",
    "for cluster in joined_clusters:\n",
    "    fig.add_trace(\n",
    "        go.Scatter3d(\n",
    "            x=cluster.point_cloud.cloud[:, 2], \n",
    "            y=cluster.point_cloud.cloud[:, 0], \n",
    "            z=cluster.point_cloud.cloud[:, 1], \n",
    "            mode=\"markers\",\n",
    "            legendgroup=\"clusters\",\n",
    "            marker= {\n",
    "                \"size\": 3,\n",
    "                \"color\": get_color(cluster.label)\n",
    "            }, \n",
    "            name=f\"Cluster {cluster.label}\"\n",
    "        ),\n",
    "        row=1,\n",
    "        col=1\n",
    "    )\n",
    "    fig.add_trace(\n",
    "        go.Scatter(\n",
    "            x=np.linalg.norm(cluster.point_cloud.cloud[:, :3], axis=1), \n",
    "            y=cluster.point_cloud.cloud[:, 4],\n",
    "            legendgroup=\"clusters\",\n",
    "            mode=\"markers\",\n",
    "            marker= {\n",
    "                \"color\": get_color(cluster.label)\n",
    "            },\n",
    "            showlegend=False,\n",
    "            name=f\"Cluster {cluster.label}\"\n",
    "        ),\n",
    "        row=2,\n",
    "        col=1\n",
    "    )\n",
    "fig.update_layout(\n",
    "    xaxis_title=\"Distance (mm)\",\n",
    "    yaxis_title=\"Integrated Charge\",\n",
    "    scene = {\n",
    "        \"xaxis_range\": [0.0, 1000.0],\n",
    "        \"yaxis_range\": [-300.0, 300.0],\n",
    "        \"zaxis_range\": [-300.0, 300.0],\n",
    "        \"xaxis_title\": \"Z (mm)\",\n",
    "        \"yaxis_title\": \"X (mm)\",\n",
    "        \"zaxis_title\": \"Y (mm)\",\n",
    "        \"aspectratio\": {\n",
    "            \"x\": 3.3,\n",
    "            \"y\": 1.0,\n",
    "            \"z\": 1.0\n",
    "        }\n",
    "    },\n",
    "    width=1300,\n",
    "    height=1000,\n",
    ")"
   ]
  },
  {
   "cell_type": "code",
   "execution_count": 185,
   "metadata": {},
   "outputs": [],
   "source": [
    "# Remove outliers from clusters\n",
    "cleaned_clusters = cleanup_clusters(joined_clusters, cluster_params)"
   ]
  },
  {
   "cell_type": "code",
   "execution_count": 192,
   "metadata": {},
   "outputs": [
    {
     "data": {
      "application/vnd.plotly.v1+json": {
       "config": {
        "plotlyServerURL": "https://plot.ly"
       },
       "data": [
        {
         "legendgroup": "clusters",
         "marker": {
          "color": "rgb(31, 119, 180)",
          "size": 3
         },
         "mode": "markers",
         "name": "Cluster 0",
         "scene": "scene",
         "type": "scatter3d",
         "x": [
          256.30149466207195,
          258.3446242945486,
          258.58365069148437,
          259.29882028310374,
          296.38801380558266,
          299.25927308947075,
          299.89191515003836
         ],
         "y": [
          -12.270588,
          -4.9082351,
          -12.270588,
          -7.3623528,
          -9.8164701,
          -9.8164701,
          -12.270588
         ],
         "z": [
          82.887802,
          87.138458,
          87.138458,
          87.138458,
          23.378611,
          19.127953,
          27.629267
         ]
        },
        {
         "legendgroup": "clusters",
         "marker": {
          "color": "rgb(31, 119, 180)"
         },
         "mode": "markers",
         "name": "Cluster 0",
         "showlegend": false,
         "type": "scatter",
         "x": [
          269.6505353532031,
          272.6887356241657,
          273.14681509660534,
          273.64793677566576,
          297.4706326095599,
          300.0305887759327,
          301.4118519520771
         ],
         "xaxis": "x",
         "y": [
          1424,
          6425,
          3483,
          1673,
          919,
          25752,
          765
         ],
         "yaxis": "y"
        },
        {
         "legendgroup": "clusters",
         "marker": {
          "color": "rgb(255, 127, 14)",
          "size": 3
         },
         "mode": "markers",
         "name": "Cluster 1",
         "scene": "scene",
         "type": "scatter3d",
         "x": [
          48.32283742383062,
          53.438183482185465,
          56.00422029797623,
          62.484021856123064,
          65.68171321422429,
          69.64084708146406,
          70.86380766866264,
          71.40893362656465,
          75.42865027531464,
          75.45056825907898,
          81.16538017153167,
          81.41776233130533,
          86.99118954307889,
          89.42817226588193,
          92.2735967395295,
          95.08453901475318,
          97.30348636621518,
          101.03738580137664,
          102.2263735566732,
          102.47578037174418,
          104.50679822162444,
          105.42958625731265,
          107.79039442513523,
          110.52517281017322,
          117.35211699660032,
          117.4334673443526,
          119.95743092995427,
          122.13827510795167,
          127.0378296680414,
          131.1085584254606,
          133.69135789076984,
          137.35834058784351,
          141.36144370877355,
          141.52952805782223,
          141.67053052680654,
          143.99645224692512,
          145.32930309245575,
          151.16578925850578,
          151.45783070691883,
          151.60323910504846,
          155.36257947000607,
          157.70611941877308,
          159.8806285376749,
          165.39201236874078,
          167.06230117873386,
          169.80499233226763,
          171.55862579954973,
          173.41335618079515,
          173.7910123719124,
          177.8470116418979,
          180.1509634590767,
          184.61553295999866,
          191.1642942919786,
          192.5340379337468,
          193.22070108957848,
          197.68381316991588,
          198.83590657794724,
          204.333504663528,
          206.56665681172694,
          206.78607325234694,
          207.9850034284383,
          216.70187270291441,
          217.79749949627626,
          222.88686913594995,
          225.36446105754197,
          225.7728929271053,
          228.10442265838185,
          233.52681058947616,
          235.9356802782605,
          240.25157586885533,
          242.27454479200392,
          245.51958548983526,
          248.5580663081565,
          248.7645059171114,
          254.5674097822253,
          258.1996368508568,
          258.3457388620226,
          263.8265875816458,
          264.47101749414554,
          270.23150953243106,
          275.8210550833828,
          282.24522469067614,
          288.72427566547145,
          297.5258469741593,
          305.58316982421115
         ],
         "y": [
          -7.3623528,
          -9.8164701,
          -9.8164701,
          -12.270588,
          -9.8164701,
          -12.270588,
          -9.8164701,
          -12.270588,
          -9.8164701,
          -9.8164701,
          -9.8164701,
          -12.270588,
          -12.270588,
          -9.8164701,
          -12.270588,
          -9.8164701,
          -9.8164701,
          -7.3623528,
          -12.270588,
          -9.8164701,
          -7.3623528,
          -4.9082351,
          -9.8164701,
          -7.3623528,
          -7.3623528,
          -4.9082351,
          -4.9082351,
          -2.4541175,
          -2.4541175,
          -2.4541175,
          0,
          2.4541175,
          2.4541175,
          0,
          4.9082351,
          2.4541175,
          4.9082351,
          7.3623528,
          4.9082351,
          7.3623528,
          9.8164701,
          9.8164701,
          12.270588,
          12.270588,
          14.724706,
          14.724706,
          17.178823,
          17.178823,
          19.63294,
          22.087059,
          22.087059,
          24.541176,
          29.449411,
          26.995293,
          29.449411,
          31.903528,
          31.903528,
          34.357647,
          39.265881,
          36.811764,
          39.265881,
          44.174118,
          46.628235,
          51.536469,
          51.536469,
          49.082352,
          53.990585,
          56.444706,
          58.898823,
          61.35294,
          63.807056,
          66.261177,
          68.715294,
          68.715294,
          73.623528,
          76.077644,
          73.623528,
          78.531761,
          78.531761,
          83.439995,
          88.348236,
          93.25647,
          98.164703,
          103.07294,
          107.98117
         ],
         "z": [
          -19.127953,
          -19.127953,
          -23.378611,
          -27.629267,
          -27.629267,
          -36.130577,
          -31.879923,
          -31.879923,
          -36.130577,
          -40.381233,
          -44.631893,
          -44.631893,
          -48.882549,
          -48.882549,
          -53.133205,
          -53.133205,
          -57.383862,
          -57.383862,
          -57.383862,
          -61.634518,
          -61.634518,
          -61.634518,
          -65.88517,
          -65.88517,
          -70.135826,
          -70.135826,
          -74.386482,
          -74.386482,
          -78.637138,
          -82.887802,
          -82.887802,
          -82.887802,
          -87.138458,
          -87.138458,
          -87.138458,
          -91.389114,
          -91.389114,
          -91.389114,
          -95.639771,
          -95.639771,
          -95.639771,
          -99.890427,
          -99.890427,
          -104.14108,
          -104.14108,
          -108.39174,
          -104.14108,
          -108.39174,
          -108.39174,
          -112.6424,
          -108.39174,
          -112.6424,
          -112.6424,
          -116.89305,
          -116.89305,
          -121.14371,
          -116.89305,
          -121.14371,
          -121.14371,
          -121.14371,
          -125.39436,
          -125.39436,
          -125.39436,
          -129.64502,
          -125.39436,
          -125.39436,
          -129.64502,
          -129.64502,
          -129.64502,
          -129.64502,
          -129.64502,
          -129.64502,
          -129.64502,
          -133.89568,
          -129.64502,
          -133.89568,
          -133.89568,
          -133.89568,
          -129.64502,
          -131.77034,
          -131.77034,
          -131.77034,
          -131.77034,
          -131.77034,
          -131.77034
         ]
        },
        {
         "legendgroup": "clusters",
         "marker": {
          "color": "rgb(255, 127, 14)"
         },
         "mode": "markers",
         "name": "Cluster 1",
         "showlegend": false,
         "type": "scatter",
         "x": [
          52.48980321368944,
          57.60105142330409,
          61.47678609603602,
          69.41323153505748,
          71.92931899397553,
          79.40927846569653,
          78.32223064374082,
          79.15890740804087,
          84.20963698967503,
          86.13823375506615,
          93.14605679456811,
          93.65588729848281,
          100.53625209208379,
          102.38781507961701,
          107.18265465403941,
          109.36439145555713,
          113.38976656770866,
          116.42879878433402,
          117.87156738776862,
          119.9852593326133,
          121.55117820234946,
          122.2223475444541,
          126.71222451476147,
          128.88317845785468,
          136.9114958322993,
          136.87126839850748,
          141.23464416157938,
          143.0284225019133,
          149.4270133955074,
          155.13176497899266,
          157.3015158702201,
          160.44850931729167,
          166.07887078960505,
          166.2038452469968,
          166.39633666088164,
          170.56661780697237,
          171.74593813782244,
          176.7972574408428,
          179.19411555956572,
          179.40098144332043,
          182.70429656067364,
          186.93763824761146,
          188.9192423172136,
          195.8327082711513,
          197.41325686358255,
          201.98841968780167,
          201.42700561111874,
          205.22200993504632,
          205.76087483903592,
          211.6735883453173,
          211.40240564083152,
          217.65448446408664,
          223.8288754789183,
          226.8525660986267,
          227.7399663565832,
          234.03530409066298,
          232.84659753112874,
          240.01755666621708,
          242.6672445750436,
          242.4693476142516,
          246.01487065143695,
          254.23375042239698,
          255.60455513518394,
          262.94941582177825,
          262.9997974610511,
          262.88062305604734,
          267.87019639324626,
          272.9992807871843,
          275.5767548069889,
          279.8085669969959,
          282.09240801616806,
          285.443937836007,
          288.6359907689212,
          290.7466666298229,
          295.01325598894465,
          300.6375118130927,
          300.15162465992677,
          306.1041635185633,
          304.827800226538,
          312.0107754765723,
          318.191903943733,
          325.1500554532734,
          332.2069216276882,
          341.3342688357705,
          349.86344372926015
         ],
         "xaxis": "x",
         "y": [
          423,
          371,
          537,
          523,
          1112,
          551,
          1682,
          759,
          456,
          519,
          681,
          618,
          913,
          1060,
          445,
          1262,
          2265,
          906,
          451,
          1200,
          1235,
          397,
          770,
          880,
          916,
          1252,
          1101,
          956,
          2184,
          614,
          1053,
          750,
          1372,
          771,
          670,
          398,
          1461,
          737,
          661,
          1934,
          901,
          1833,
          2484,
          1615,
          2026,
          946,
          841,
          710,
          830,
          838,
          923,
          676,
          953,
          754,
          3949,
          468,
          1213,
          871,
          1435,
          1922,
          493,
          1630,
          2257,
          1346,
          1641,
          983,
          614,
          2279,
          1684,
          1935,
          3501,
          1030,
          1742,
          581,
          1301,
          527,
          2444,
          1787,
          476,
          2123,
          2779,
          2409,
          3242,
          1628,
          7438
         ],
         "yaxis": "y"
        }
       ],
       "layout": {
        "height": 1000,
        "scene": {
         "aspectratio": {
          "x": 3.3,
          "y": 1,
          "z": 1
         },
         "domain": {
          "x": [
           0,
           1
          ],
          "y": [
           0.49,
           1
          ]
         },
         "xaxis": {
          "range": [
           0,
           1000
          ],
          "title": {
           "text": "Z (mm)"
          }
         },
         "yaxis": {
          "range": [
           -300,
           300
          ],
          "title": {
           "text": "X (mm)"
          }
         },
         "zaxis": {
          "range": [
           -300,
           300
          ],
          "title": {
           "text": "Y (mm)"
          }
         }
        },
        "template": {
         "data": {
          "bar": [
           {
            "error_x": {
             "color": "#2a3f5f"
            },
            "error_y": {
             "color": "#2a3f5f"
            },
            "marker": {
             "line": {
              "color": "#E5ECF6",
              "width": 0.5
             },
             "pattern": {
              "fillmode": "overlay",
              "size": 10,
              "solidity": 0.2
             }
            },
            "type": "bar"
           }
          ],
          "barpolar": [
           {
            "marker": {
             "line": {
              "color": "#E5ECF6",
              "width": 0.5
             },
             "pattern": {
              "fillmode": "overlay",
              "size": 10,
              "solidity": 0.2
             }
            },
            "type": "barpolar"
           }
          ],
          "carpet": [
           {
            "aaxis": {
             "endlinecolor": "#2a3f5f",
             "gridcolor": "white",
             "linecolor": "white",
             "minorgridcolor": "white",
             "startlinecolor": "#2a3f5f"
            },
            "baxis": {
             "endlinecolor": "#2a3f5f",
             "gridcolor": "white",
             "linecolor": "white",
             "minorgridcolor": "white",
             "startlinecolor": "#2a3f5f"
            },
            "type": "carpet"
           }
          ],
          "choropleth": [
           {
            "colorbar": {
             "outlinewidth": 0,
             "ticks": ""
            },
            "type": "choropleth"
           }
          ],
          "contour": [
           {
            "colorbar": {
             "outlinewidth": 0,
             "ticks": ""
            },
            "colorscale": [
             [
              0,
              "#0d0887"
             ],
             [
              0.1111111111111111,
              "#46039f"
             ],
             [
              0.2222222222222222,
              "#7201a8"
             ],
             [
              0.3333333333333333,
              "#9c179e"
             ],
             [
              0.4444444444444444,
              "#bd3786"
             ],
             [
              0.5555555555555556,
              "#d8576b"
             ],
             [
              0.6666666666666666,
              "#ed7953"
             ],
             [
              0.7777777777777778,
              "#fb9f3a"
             ],
             [
              0.8888888888888888,
              "#fdca26"
             ],
             [
              1,
              "#f0f921"
             ]
            ],
            "type": "contour"
           }
          ],
          "contourcarpet": [
           {
            "colorbar": {
             "outlinewidth": 0,
             "ticks": ""
            },
            "type": "contourcarpet"
           }
          ],
          "heatmap": [
           {
            "colorbar": {
             "outlinewidth": 0,
             "ticks": ""
            },
            "colorscale": [
             [
              0,
              "#0d0887"
             ],
             [
              0.1111111111111111,
              "#46039f"
             ],
             [
              0.2222222222222222,
              "#7201a8"
             ],
             [
              0.3333333333333333,
              "#9c179e"
             ],
             [
              0.4444444444444444,
              "#bd3786"
             ],
             [
              0.5555555555555556,
              "#d8576b"
             ],
             [
              0.6666666666666666,
              "#ed7953"
             ],
             [
              0.7777777777777778,
              "#fb9f3a"
             ],
             [
              0.8888888888888888,
              "#fdca26"
             ],
             [
              1,
              "#f0f921"
             ]
            ],
            "type": "heatmap"
           }
          ],
          "heatmapgl": [
           {
            "colorbar": {
             "outlinewidth": 0,
             "ticks": ""
            },
            "colorscale": [
             [
              0,
              "#0d0887"
             ],
             [
              0.1111111111111111,
              "#46039f"
             ],
             [
              0.2222222222222222,
              "#7201a8"
             ],
             [
              0.3333333333333333,
              "#9c179e"
             ],
             [
              0.4444444444444444,
              "#bd3786"
             ],
             [
              0.5555555555555556,
              "#d8576b"
             ],
             [
              0.6666666666666666,
              "#ed7953"
             ],
             [
              0.7777777777777778,
              "#fb9f3a"
             ],
             [
              0.8888888888888888,
              "#fdca26"
             ],
             [
              1,
              "#f0f921"
             ]
            ],
            "type": "heatmapgl"
           }
          ],
          "histogram": [
           {
            "marker": {
             "pattern": {
              "fillmode": "overlay",
              "size": 10,
              "solidity": 0.2
             }
            },
            "type": "histogram"
           }
          ],
          "histogram2d": [
           {
            "colorbar": {
             "outlinewidth": 0,
             "ticks": ""
            },
            "colorscale": [
             [
              0,
              "#0d0887"
             ],
             [
              0.1111111111111111,
              "#46039f"
             ],
             [
              0.2222222222222222,
              "#7201a8"
             ],
             [
              0.3333333333333333,
              "#9c179e"
             ],
             [
              0.4444444444444444,
              "#bd3786"
             ],
             [
              0.5555555555555556,
              "#d8576b"
             ],
             [
              0.6666666666666666,
              "#ed7953"
             ],
             [
              0.7777777777777778,
              "#fb9f3a"
             ],
             [
              0.8888888888888888,
              "#fdca26"
             ],
             [
              1,
              "#f0f921"
             ]
            ],
            "type": "histogram2d"
           }
          ],
          "histogram2dcontour": [
           {
            "colorbar": {
             "outlinewidth": 0,
             "ticks": ""
            },
            "colorscale": [
             [
              0,
              "#0d0887"
             ],
             [
              0.1111111111111111,
              "#46039f"
             ],
             [
              0.2222222222222222,
              "#7201a8"
             ],
             [
              0.3333333333333333,
              "#9c179e"
             ],
             [
              0.4444444444444444,
              "#bd3786"
             ],
             [
              0.5555555555555556,
              "#d8576b"
             ],
             [
              0.6666666666666666,
              "#ed7953"
             ],
             [
              0.7777777777777778,
              "#fb9f3a"
             ],
             [
              0.8888888888888888,
              "#fdca26"
             ],
             [
              1,
              "#f0f921"
             ]
            ],
            "type": "histogram2dcontour"
           }
          ],
          "mesh3d": [
           {
            "colorbar": {
             "outlinewidth": 0,
             "ticks": ""
            },
            "type": "mesh3d"
           }
          ],
          "parcoords": [
           {
            "line": {
             "colorbar": {
              "outlinewidth": 0,
              "ticks": ""
             }
            },
            "type": "parcoords"
           }
          ],
          "pie": [
           {
            "automargin": true,
            "type": "pie"
           }
          ],
          "scatter": [
           {
            "fillpattern": {
             "fillmode": "overlay",
             "size": 10,
             "solidity": 0.2
            },
            "type": "scatter"
           }
          ],
          "scatter3d": [
           {
            "line": {
             "colorbar": {
              "outlinewidth": 0,
              "ticks": ""
             }
            },
            "marker": {
             "colorbar": {
              "outlinewidth": 0,
              "ticks": ""
             }
            },
            "type": "scatter3d"
           }
          ],
          "scattercarpet": [
           {
            "marker": {
             "colorbar": {
              "outlinewidth": 0,
              "ticks": ""
             }
            },
            "type": "scattercarpet"
           }
          ],
          "scattergeo": [
           {
            "marker": {
             "colorbar": {
              "outlinewidth": 0,
              "ticks": ""
             }
            },
            "type": "scattergeo"
           }
          ],
          "scattergl": [
           {
            "marker": {
             "colorbar": {
              "outlinewidth": 0,
              "ticks": ""
             }
            },
            "type": "scattergl"
           }
          ],
          "scattermapbox": [
           {
            "marker": {
             "colorbar": {
              "outlinewidth": 0,
              "ticks": ""
             }
            },
            "type": "scattermapbox"
           }
          ],
          "scatterpolar": [
           {
            "marker": {
             "colorbar": {
              "outlinewidth": 0,
              "ticks": ""
             }
            },
            "type": "scatterpolar"
           }
          ],
          "scatterpolargl": [
           {
            "marker": {
             "colorbar": {
              "outlinewidth": 0,
              "ticks": ""
             }
            },
            "type": "scatterpolargl"
           }
          ],
          "scatterternary": [
           {
            "marker": {
             "colorbar": {
              "outlinewidth": 0,
              "ticks": ""
             }
            },
            "type": "scatterternary"
           }
          ],
          "surface": [
           {
            "colorbar": {
             "outlinewidth": 0,
             "ticks": ""
            },
            "colorscale": [
             [
              0,
              "#0d0887"
             ],
             [
              0.1111111111111111,
              "#46039f"
             ],
             [
              0.2222222222222222,
              "#7201a8"
             ],
             [
              0.3333333333333333,
              "#9c179e"
             ],
             [
              0.4444444444444444,
              "#bd3786"
             ],
             [
              0.5555555555555556,
              "#d8576b"
             ],
             [
              0.6666666666666666,
              "#ed7953"
             ],
             [
              0.7777777777777778,
              "#fb9f3a"
             ],
             [
              0.8888888888888888,
              "#fdca26"
             ],
             [
              1,
              "#f0f921"
             ]
            ],
            "type": "surface"
           }
          ],
          "table": [
           {
            "cells": {
             "fill": {
              "color": "#EBF0F8"
             },
             "line": {
              "color": "white"
             }
            },
            "header": {
             "fill": {
              "color": "#C8D4E3"
             },
             "line": {
              "color": "white"
             }
            },
            "type": "table"
           }
          ]
         },
         "layout": {
          "annotationdefaults": {
           "arrowcolor": "#2a3f5f",
           "arrowhead": 0,
           "arrowwidth": 1
          },
          "autotypenumbers": "strict",
          "coloraxis": {
           "colorbar": {
            "outlinewidth": 0,
            "ticks": ""
           }
          },
          "colorscale": {
           "diverging": [
            [
             0,
             "#8e0152"
            ],
            [
             0.1,
             "#c51b7d"
            ],
            [
             0.2,
             "#de77ae"
            ],
            [
             0.3,
             "#f1b6da"
            ],
            [
             0.4,
             "#fde0ef"
            ],
            [
             0.5,
             "#f7f7f7"
            ],
            [
             0.6,
             "#e6f5d0"
            ],
            [
             0.7,
             "#b8e186"
            ],
            [
             0.8,
             "#7fbc41"
            ],
            [
             0.9,
             "#4d9221"
            ],
            [
             1,
             "#276419"
            ]
           ],
           "sequential": [
            [
             0,
             "#0d0887"
            ],
            [
             0.1111111111111111,
             "#46039f"
            ],
            [
             0.2222222222222222,
             "#7201a8"
            ],
            [
             0.3333333333333333,
             "#9c179e"
            ],
            [
             0.4444444444444444,
             "#bd3786"
            ],
            [
             0.5555555555555556,
             "#d8576b"
            ],
            [
             0.6666666666666666,
             "#ed7953"
            ],
            [
             0.7777777777777778,
             "#fb9f3a"
            ],
            [
             0.8888888888888888,
             "#fdca26"
            ],
            [
             1,
             "#f0f921"
            ]
           ],
           "sequentialminus": [
            [
             0,
             "#0d0887"
            ],
            [
             0.1111111111111111,
             "#46039f"
            ],
            [
             0.2222222222222222,
             "#7201a8"
            ],
            [
             0.3333333333333333,
             "#9c179e"
            ],
            [
             0.4444444444444444,
             "#bd3786"
            ],
            [
             0.5555555555555556,
             "#d8576b"
            ],
            [
             0.6666666666666666,
             "#ed7953"
            ],
            [
             0.7777777777777778,
             "#fb9f3a"
            ],
            [
             0.8888888888888888,
             "#fdca26"
            ],
            [
             1,
             "#f0f921"
            ]
           ]
          },
          "colorway": [
           "#636efa",
           "#EF553B",
           "#00cc96",
           "#ab63fa",
           "#FFA15A",
           "#19d3f3",
           "#FF6692",
           "#B6E880",
           "#FF97FF",
           "#FECB52"
          ],
          "font": {
           "color": "#2a3f5f"
          },
          "geo": {
           "bgcolor": "white",
           "lakecolor": "white",
           "landcolor": "#E5ECF6",
           "showlakes": true,
           "showland": true,
           "subunitcolor": "white"
          },
          "hoverlabel": {
           "align": "left"
          },
          "hovermode": "closest",
          "mapbox": {
           "style": "light"
          },
          "paper_bgcolor": "white",
          "plot_bgcolor": "#E5ECF6",
          "polar": {
           "angularaxis": {
            "gridcolor": "white",
            "linecolor": "white",
            "ticks": ""
           },
           "bgcolor": "#E5ECF6",
           "radialaxis": {
            "gridcolor": "white",
            "linecolor": "white",
            "ticks": ""
           }
          },
          "scene": {
           "xaxis": {
            "backgroundcolor": "#E5ECF6",
            "gridcolor": "white",
            "gridwidth": 2,
            "linecolor": "white",
            "showbackground": true,
            "ticks": "",
            "zerolinecolor": "white"
           },
           "yaxis": {
            "backgroundcolor": "#E5ECF6",
            "gridcolor": "white",
            "gridwidth": 2,
            "linecolor": "white",
            "showbackground": true,
            "ticks": "",
            "zerolinecolor": "white"
           },
           "zaxis": {
            "backgroundcolor": "#E5ECF6",
            "gridcolor": "white",
            "gridwidth": 2,
            "linecolor": "white",
            "showbackground": true,
            "ticks": "",
            "zerolinecolor": "white"
           }
          },
          "shapedefaults": {
           "line": {
            "color": "#2a3f5f"
           }
          },
          "ternary": {
           "aaxis": {
            "gridcolor": "white",
            "linecolor": "white",
            "ticks": ""
           },
           "baxis": {
            "gridcolor": "white",
            "linecolor": "white",
            "ticks": ""
           },
           "bgcolor": "#E5ECF6",
           "caxis": {
            "gridcolor": "white",
            "linecolor": "white",
            "ticks": ""
           }
          },
          "title": {
           "x": 0.05
          },
          "xaxis": {
           "automargin": true,
           "gridcolor": "white",
           "linecolor": "white",
           "ticks": "",
           "title": {
            "standoff": 15
           },
           "zerolinecolor": "white",
           "zerolinewidth": 2
          },
          "yaxis": {
           "automargin": true,
           "gridcolor": "white",
           "linecolor": "white",
           "ticks": "",
           "title": {
            "standoff": 15
           },
           "zerolinecolor": "white",
           "zerolinewidth": 2
          }
         }
        },
        "width": 1300,
        "xaxis": {
         "anchor": "y",
         "domain": [
          0,
          1
         ],
         "title": {
          "text": "Distance (mm)"
         }
        },
        "yaxis": {
         "anchor": "x",
         "domain": [
          0,
          0.34
         ],
         "title": {
          "text": "Integrated Charge"
         }
        }
       }
      }
     },
     "metadata": {},
     "output_type": "display_data"
    }
   ],
   "source": [
    "# Plot cleaned up clusters\n",
    "fig = make_subplots(2,1,specs=[[{\"type\": \"scene\"}],[{\"type\": \"xy\"}]],row_heights=[0.6,0.4])\n",
    "for cluster in cleaned_clusters:\n",
    "    fig.add_trace(\n",
    "        go.Scatter3d(\n",
    "            x=cluster.data[:, 2], \n",
    "            y=cluster.data[:, 0], \n",
    "            z=cluster.data[:, 1], \n",
    "            mode=\"markers\",\n",
    "            legendgroup=\"clusters\",\n",
    "            marker= {\n",
    "                \"size\": 3,\n",
    "                \"color\": get_color(cluster.label)\n",
    "            }, \n",
    "            name=f\"Cluster {cluster.label}\"\n",
    "        ),\n",
    "        row=1,\n",
    "        col=1\n",
    "    )\n",
    "    fig.add_trace(\n",
    "        go.Scatter(\n",
    "            x=np.linalg.norm(cluster.data[:, :3], axis=1), \n",
    "            y=cluster.data[:, 3],\n",
    "            legendgroup=\"clusters\",\n",
    "            mode=\"markers\",\n",
    "            marker= {\n",
    "                \"color\": get_color(cluster.label)\n",
    "            },\n",
    "            showlegend=False,\n",
    "            name=f\"Cluster {cluster.label}\"\n",
    "        ),\n",
    "        row=2,\n",
    "        col=1\n",
    "    )\n",
    "fig.update_layout(\n",
    "    xaxis_title=\"Distance (mm)\",\n",
    "    yaxis_title=\"Integrated Charge\",\n",
    "    scene = {\n",
    "        \"xaxis_range\": [0.0, 1000.0],\n",
    "        \"yaxis_range\": [-300.0, 300.0],\n",
    "        \"zaxis_range\": [-300.0, 300.0],\n",
    "        \"xaxis_title\": \"Z (mm)\",\n",
    "        \"yaxis_title\": \"X (mm)\",\n",
    "        \"zaxis_title\": \"Y (mm)\",\n",
    "        \"aspectratio\": {\n",
    "            \"x\": 3.3,\n",
    "            \"y\": 1.0,\n",
    "            \"z\": 1.0\n",
    "        }\n",
    "    },\n",
    "    width=1300,\n",
    "    height=1000,\n",
    ")"
   ]
  }
 ],
 "metadata": {
  "kernelspec": {
   "display_name": ".venv",
   "language": "python",
   "name": "python3"
  },
  "language_info": {
   "codemirror_mode": {
    "name": "ipython",
    "version": 3
   },
   "file_extension": ".py",
   "mimetype": "text/x-python",
   "name": "python",
   "nbconvert_exporter": "python",
   "pygments_lexer": "ipython3",
   "version": "3.12.3"
  },
  "orig_nbformat": 4
 },
 "nbformat": 4,
 "nbformat_minor": 2
}
