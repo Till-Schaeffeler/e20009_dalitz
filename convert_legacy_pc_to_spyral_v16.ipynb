{
 "cells": [
  {
   "cell_type": "code",
   "execution_count": 1,
   "metadata": {},
   "outputs": [],
   "source": [
    "#### Notebook to make Legacy Point Clouds compatible with Spyral-v16 ###"
   ]
  },
  {
   "cell_type": "code",
   "execution_count": 6,
   "metadata": {},
   "outputs": [],
   "source": [
    "from pathlib import Path\n",
    "from spyral.core.run_stacks import form_run_string\n",
    "import h5py as h5\n",
    "import shutil"
   ]
  },
  {
   "cell_type": "code",
   "execution_count": 7,
   "metadata": {},
   "outputs": [],
   "source": [
    "path_to_legacy_pc = Path(\"C:\\\\Users\\\\schaeffe\\\\Desktop\\\\e20009_B11_output\\\\PointcloudLegacy\")\n",
    "path_to_converted = Path(\"c:\\\\Users\\\\schaeffe\\\\Desktop\\\\e20009_dalitz_output\\\\Pointcloud\") ## Follow naming convetion of spyral-v16 "
   ]
  },
  {
   "cell_type": "code",
   "execution_count": 8,
   "metadata": {},
   "outputs": [],
   "source": [
    "start_run = 108\n",
    "end_run = 320"
   ]
  },
  {
   "cell_type": "code",
   "execution_count": null,
   "metadata": {},
   "outputs": [
    {
     "name": "stdout",
     "output_type": "stream",
     "text": [
      "Run Number: 108\n",
      "Events range from 218 to 22307\n",
      "Updated file saved to: c:\\Users\\schaeffe\\Desktop\\e20009_dalitz_output\\Pointcloud\\run_0108.h5\n",
      "Run Number: 109\n",
      "Events range from 22308 to 46451\n",
      "Updated file saved to: c:\\Users\\schaeffe\\Desktop\\e20009_dalitz_output\\Pointcloud\\run_0109.h5\n",
      "Run Number: 110\n",
      "Events range from 46452 to 60907\n",
      "Updated file saved to: c:\\Users\\schaeffe\\Desktop\\e20009_dalitz_output\\Pointcloud\\run_0110.h5\n",
      "Run Number: 111\n",
      "No 'cloud' group found. Skipping ... \n",
      "Run Number: 112\n",
      "Events range from 66350 to 113153\n",
      "Updated file saved to: c:\\Users\\schaeffe\\Desktop\\e20009_dalitz_output\\Pointcloud\\run_0112.h5\n",
      "Run Number: 113\n",
      "Events range from 113154 to 177040\n",
      "Updated file saved to: c:\\Users\\schaeffe\\Desktop\\e20009_dalitz_output\\Pointcloud\\run_0113.h5\n",
      "Run Number: 114\n",
      "Events range from 177041 to 230213\n",
      "Updated file saved to: c:\\Users\\schaeffe\\Desktop\\e20009_dalitz_output\\Pointcloud\\run_0114.h5\n",
      "Run Number: 115\n",
      "Events range from 230214 to 278590\n",
      "Updated file saved to: c:\\Users\\schaeffe\\Desktop\\e20009_dalitz_output\\Pointcloud\\run_0115.h5\n",
      "Run Number: 116\n",
      "Events range from 278591 to 297735\n",
      "Updated file saved to: c:\\Users\\schaeffe\\Desktop\\e20009_dalitz_output\\Pointcloud\\run_0116.h5\n",
      "Run Number: 117\n",
      "Events range from 297737 to 328940\n",
      "Updated file saved to: c:\\Users\\schaeffe\\Desktop\\e20009_dalitz_output\\Pointcloud\\run_0117.h5\n",
      "Run Number: 118\n",
      "Events range from 328941 to 357068\n",
      "Updated file saved to: c:\\Users\\schaeffe\\Desktop\\e20009_dalitz_output\\Pointcloud\\run_0118.h5\n",
      "Run Number: 119\n",
      "Events range from 357069 to 369462\n",
      "Updated file saved to: c:\\Users\\schaeffe\\Desktop\\e20009_dalitz_output\\Pointcloud\\run_0119.h5\n",
      "Run Number: 120\n",
      "Events range from 369463 to 437034\n",
      "Updated file saved to: c:\\Users\\schaeffe\\Desktop\\e20009_dalitz_output\\Pointcloud\\run_0120.h5\n",
      "Run Number: 121\n",
      "Events range from 437035 to 505779\n",
      "Updated file saved to: c:\\Users\\schaeffe\\Desktop\\e20009_dalitz_output\\Pointcloud\\run_0121.h5\n",
      "Run Number: 122\n",
      "Events range from 505780 to 568642\n",
      "Updated file saved to: c:\\Users\\schaeffe\\Desktop\\e20009_dalitz_output\\Pointcloud\\run_0122.h5\n",
      "Run Number: 123\n",
      "Events range from 568643 to 628185\n",
      "Updated file saved to: c:\\Users\\schaeffe\\Desktop\\e20009_dalitz_output\\Pointcloud\\run_0123.h5\n",
      "Run Number: 124\n",
      "Events range from 628186 to 678614\n",
      "Updated file saved to: c:\\Users\\schaeffe\\Desktop\\e20009_dalitz_output\\Pointcloud\\run_0124.h5\n",
      "Run Number: 125\n",
      "Events range from 678615 to 744255\n",
      "Updated file saved to: c:\\Users\\schaeffe\\Desktop\\e20009_dalitz_output\\Pointcloud\\run_0125.h5\n",
      "Run Number: 126\n",
      "Events range from 744256 to 811445\n",
      "Updated file saved to: c:\\Users\\schaeffe\\Desktop\\e20009_dalitz_output\\Pointcloud\\run_0126.h5\n",
      "Run Number: 127\n"
     ]
    },
    {
     "ename": "FileNotFoundError",
     "evalue": "[Errno 2] No such file or directory: 'C:\\\\Users\\\\schaeffe\\\\Desktop\\\\e20009_B11_output\\\\PointcloudLegacy\\\\run_0127.h5'",
     "output_type": "error",
     "traceback": [
      "\u001b[1;31m---------------------------------------------------------------------------\u001b[0m",
      "\u001b[1;31mFileNotFoundError\u001b[0m                         Traceback (most recent call last)",
      "Cell \u001b[1;32mIn[10], line 9\u001b[0m\n\u001b[0;32m      6\u001b[0m converted_file_path \u001b[38;5;241m=\u001b[39m path_to_converted \u001b[38;5;241m/\u001b[39m \u001b[38;5;124mf\u001b[39m\u001b[38;5;124m\"\u001b[39m\u001b[38;5;132;01m{\u001b[39;00mform_run_string(run_number)\u001b[38;5;132;01m}\u001b[39;00m\u001b[38;5;124m.h5\u001b[39m\u001b[38;5;124m\"\u001b[39m \n\u001b[0;32m      8\u001b[0m \u001b[38;5;66;03m# Copy the original file to the new location before adding new atributes\u001b[39;00m\n\u001b[1;32m----> 9\u001b[0m \u001b[43mshutil\u001b[49m\u001b[38;5;241;43m.\u001b[39;49m\u001b[43mcopy\u001b[49m\u001b[43m(\u001b[49m\u001b[43mlegacy_pc_file_path\u001b[49m\u001b[43m,\u001b[49m\u001b[43m \u001b[49m\u001b[43mconverted_file_path\u001b[49m\u001b[43m)\u001b[49m\n\u001b[0;32m     11\u001b[0m \u001b[38;5;28;01mwith\u001b[39;00m h5\u001b[38;5;241m.\u001b[39mFile(converted_file_path, \u001b[38;5;124m'\u001b[39m\u001b[38;5;124mr+\u001b[39m\u001b[38;5;124m'\u001b[39m) \u001b[38;5;28;01mas\u001b[39;00m converted_file:  \u001b[38;5;66;03m# Open copied file in read/write mode\u001b[39;00m\n\u001b[0;32m     13\u001b[0m     cloud_group: h5\u001b[38;5;241m.\u001b[39mGroup \u001b[38;5;241m=\u001b[39m converted_file\u001b[38;5;241m.\u001b[39mget(\u001b[38;5;124m'\u001b[39m\u001b[38;5;124mcloud\u001b[39m\u001b[38;5;124m'\u001b[39m)\n",
      "File \u001b[1;32mc:\\Users\\schaeffe\\.conda\\envs\\zach_spyral-env\\Lib\\shutil.py:435\u001b[0m, in \u001b[0;36mcopy\u001b[1;34m(src, dst, follow_symlinks)\u001b[0m\n\u001b[0;32m    433\u001b[0m \u001b[38;5;28;01mif\u001b[39;00m os\u001b[38;5;241m.\u001b[39mpath\u001b[38;5;241m.\u001b[39misdir(dst):\n\u001b[0;32m    434\u001b[0m     dst \u001b[38;5;241m=\u001b[39m os\u001b[38;5;241m.\u001b[39mpath\u001b[38;5;241m.\u001b[39mjoin(dst, os\u001b[38;5;241m.\u001b[39mpath\u001b[38;5;241m.\u001b[39mbasename(src))\n\u001b[1;32m--> 435\u001b[0m \u001b[43mcopyfile\u001b[49m\u001b[43m(\u001b[49m\u001b[43msrc\u001b[49m\u001b[43m,\u001b[49m\u001b[43m \u001b[49m\u001b[43mdst\u001b[49m\u001b[43m,\u001b[49m\u001b[43m \u001b[49m\u001b[43mfollow_symlinks\u001b[49m\u001b[38;5;241;43m=\u001b[39;49m\u001b[43mfollow_symlinks\u001b[49m\u001b[43m)\u001b[49m\n\u001b[0;32m    436\u001b[0m copymode(src, dst, follow_symlinks\u001b[38;5;241m=\u001b[39mfollow_symlinks)\n\u001b[0;32m    437\u001b[0m \u001b[38;5;28;01mreturn\u001b[39;00m dst\n",
      "File \u001b[1;32mc:\\Users\\schaeffe\\.conda\\envs\\zach_spyral-env\\Lib\\shutil.py:260\u001b[0m, in \u001b[0;36mcopyfile\u001b[1;34m(src, dst, follow_symlinks)\u001b[0m\n\u001b[0;32m    258\u001b[0m     os\u001b[38;5;241m.\u001b[39msymlink(os\u001b[38;5;241m.\u001b[39mreadlink(src), dst)\n\u001b[0;32m    259\u001b[0m \u001b[38;5;28;01melse\u001b[39;00m:\n\u001b[1;32m--> 260\u001b[0m     \u001b[38;5;28;01mwith\u001b[39;00m \u001b[38;5;28;43mopen\u001b[39;49m\u001b[43m(\u001b[49m\u001b[43msrc\u001b[49m\u001b[43m,\u001b[49m\u001b[43m \u001b[49m\u001b[38;5;124;43m'\u001b[39;49m\u001b[38;5;124;43mrb\u001b[39;49m\u001b[38;5;124;43m'\u001b[39;49m\u001b[43m)\u001b[49m \u001b[38;5;28;01mas\u001b[39;00m fsrc:\n\u001b[0;32m    261\u001b[0m         \u001b[38;5;28;01mtry\u001b[39;00m:\n\u001b[0;32m    262\u001b[0m             \u001b[38;5;28;01mwith\u001b[39;00m \u001b[38;5;28mopen\u001b[39m(dst, \u001b[38;5;124m'\u001b[39m\u001b[38;5;124mwb\u001b[39m\u001b[38;5;124m'\u001b[39m) \u001b[38;5;28;01mas\u001b[39;00m fdst:\n\u001b[0;32m    263\u001b[0m                 \u001b[38;5;66;03m# macOS\u001b[39;00m\n",
      "\u001b[1;31mFileNotFoundError\u001b[0m: [Errno 2] No such file or directory: 'C:\\\\Users\\\\schaeffe\\\\Desktop\\\\e20009_B11_output\\\\PointcloudLegacy\\\\run_0127.h5'"
     ]
    }
   ],
   "source": [
    "for run_number in range(start_run, end_run):  \n",
    "\n",
    "    print(f\"Run Number: {run_number}\")\n",
    "    legacy_pc_file_path = path_to_legacy_pc / f\"{form_run_string(run_number)}.h5\"\n",
    "\n",
    "    if not legacy_pc_file_path.exists():\n",
    "        print(f\"File not found: {legacy_pc_file_path}. Skipping ...\")\n",
    "        continue\n",
    "\n",
    "    converted_file_path = path_to_converted / f\"{form_run_string(run_number)}.h5\" \n",
    "\n",
    "    # Copy the original file to the new location before adding new atributes\n",
    "    shutil.copy(legacy_pc_file_path, converted_file_path)\n",
    "\n",
    "    with h5.File(converted_file_path, 'r+') as converted_file:  # Open copied file in read/write mode\n",
    "\n",
    "        cloud_group: h5.Group = converted_file.get('cloud')\n",
    "        if cloud_group is None:\n",
    "            print(\"No 'cloud' group found. Skipping ... \")\n",
    "            continue\n",
    "\n",
    "        min_event = cloud_group.attrs['min_event']\n",
    "        max_event = cloud_group.attrs['max_event']\n",
    "        \n",
    "        print(f\"Events range from {min_event} to {max_event}\")\n",
    "\n",
    "        for event_number in range(min_event, max_event + 1):\n",
    "            event_key = f'cloud_{event_number}'\n",
    "            if event_key in cloud_group:\n",
    "                pc_dataset = cloud_group[event_key]\n",
    "\n",
    "                # Add attributes\n",
    "                pc_dataset.attrs[\"orig_run\"] = run_number\n",
    "                pc_dataset.attrs[\"orig_event\"] = event_number\n",
    "        \n",
    "        print(f\"Updated file saved to: {converted_file_path}\")\n",
    "\n",
    "\n",
    "\n",
    "\n"
   ]
  },
  {
   "cell_type": "code",
   "execution_count": null,
   "metadata": {},
   "outputs": [],
   "source": []
  }
 ],
 "metadata": {
  "kernelspec": {
   "display_name": "zach_spyral-env",
   "language": "python",
   "name": "python3"
  },
  "language_info": {
   "codemirror_mode": {
    "name": "ipython",
    "version": 3
   },
   "file_extension": ".py",
   "mimetype": "text/x-python",
   "name": "python",
   "nbconvert_exporter": "python",
   "pygments_lexer": "ipython3",
   "version": "3.12.7"
  }
 },
 "nbformat": 4,
 "nbformat_minor": 2
}
